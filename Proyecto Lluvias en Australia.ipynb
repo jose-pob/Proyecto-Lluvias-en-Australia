{
 "cells": [
  {
   "cell_type": "markdown",
   "metadata": {
    "id": "XoHvMV9TBGrF",
    "tags": []
   },
   "source": [
    "# Proyecto Lluvias en Australia"
   ]
  },
  {
   "cell_type": "markdown",
   "metadata": {
    "id": "RX3lmmhbBGrH"
   },
   "source": [
    "###### Jose Poblete Soto"
   ]
  },
  {
   "cell_type": "markdown",
   "metadata": {
    "id": "rJU6eho7BGrH"
   },
   "source": [
    "#### CRISP-DM1 Conocer el negocio"
   ]
  },
  {
   "cell_type": "markdown",
   "metadata": {
    "id": "5TBT99geBGrH"
   },
   "source": [
    "#### El clima y el tiempo promedio en todo el año"
   ]
  },
  {
   "cell_type": "markdown",
   "metadata": {
    "id": "gDx9_5eyBGrI"
   },
   "source": [
    "###### En Australia, los veranos son calurosos y parcialmente nublados y los inviernos son cortos, frescos y mayormente despejados. Durante el transcurso del año, la temperatura generalmente varía de 8 °C a 27 °C y rara vez baja a menos de 5 °C o sube a más de 32 °C."
   ]
  },
  {
   "cell_type": "markdown",
   "metadata": {
    "id": "SmmxMqqPBGrI"
   },
   "source": [
    "![](../IMG/clima.PNG)"
   ]
  },
  {
   "cell_type": "markdown",
   "metadata": {
    "id": "Xfp86uOJBGrI"
   },
   "source": [
    "#### Temperatura promedio"
   ]
  },
  {
   "cell_type": "markdown",
   "metadata": {
    "id": "2fgmW5bnBGrI"
   },
   "source": [
    "###### La temporada templada dura 3,9 meses, del 26 de noviembre al 22 de marzo, y la temperatura máxima promedio diaria es más de 25 °C. El mes más cálido del año en Sídney es enero, con una temperatura máxima promedio de 26 °C y mínima de 20 °C."
   ]
  },
  {
   "cell_type": "markdown",
   "metadata": {
    "id": "d2kZrqrtBGrI"
   },
   "source": [
    "![](../IMG/temmaxmin.PNG)"
   ]
  },
  {
   "cell_type": "markdown",
   "metadata": {
    "id": "8HMk3sVGBGrI"
   },
   "source": [
    "![](../IMG/temmaxmin2.PNG)"
   ]
  },
  {
   "cell_type": "markdown",
   "metadata": {
    "id": "s6KOcOZ-BGrJ",
    "tags": []
   },
   "source": [
    "#### Precipitación"
   ]
  },
  {
   "cell_type": "markdown",
   "metadata": {
    "id": "kLDC6s3BBGrJ"
   },
   "source": [
    "###### Un día mojado es un día con por lo menos 1 milímetro de líquido o precipitación equivalente a líquido. La probabilidad de días mojados en Australia varía durante el año.\n",
    "###### La temporada más mojada dura 7,5 meses, de 21 de octubre a 7 de junio, con una probabilidad de más del 23 % de que cierto día será un día mojado. El mes con más días mojados en Australia es febrero, con un promedio de 7,9 días con por lo menos 1 milímetro de precipitación.\n",
    "###### La temporada más seca dura 4,5 meses, del 7 de junio al 21 de octubre. El mes con menos días mojados en Australia es agosto, con un promedio de 5,2 días con por lo menos 1 milímetro de precipitación.\n",
    "###### Entre los días mojados, distinguimos entre los que tienen solamente lluvia, solamente nieve o una combinación de las dos. El mes con más días con solo lluvia en Australia es febrero, con un promedio de 7,9 días. En base a esta categorización, el tipo más común de precipitación durante el año es solo lluvia, con una probabilidad máxima del 30 % el 31 de enero."
   ]
  },
  {
   "cell_type": "markdown",
   "metadata": {
    "id": "i7KbOdQhBGrJ"
   },
   "source": [
    "![](../IMG/preci.PNG)"
   ]
  },
  {
   "cell_type": "markdown",
   "metadata": {
    "id": "oOWTLrUyBGrJ"
   },
   "source": [
    "#### LLuvia"
   ]
  },
  {
   "cell_type": "markdown",
   "metadata": {
    "id": "KIOaKt9aBGrJ"
   },
   "source": [
    "###### Para mostrar la variación durante un mes y no solamente los totales mensuales, mostramos la precipitación de lluvia acumulada durante un período de 31 días en una escala móvil centrada alrededor de cada día del año. Australia tiene una variación considerable de lluvia mensual por estación.\n",
    "###### Llueve durante el año en Australia. El mes con más lluvia en Australia es febrero, con un promedio de 102 milímetros de lluvia.\n",
    "###### El mes con menos lluvia en Australia es septiembre, con un promedio de 46 milímetros de lluvia."
   ]
  },
  {
   "cell_type": "markdown",
   "metadata": {
    "id": "Bg7Jr2v_BGrJ"
   },
   "source": [
    "![](../IMG/lluvia.PNG)"
   ]
  },
  {
   "cell_type": "markdown",
   "metadata": {
    "id": "WU44JVtiBGrJ"
   },
   "source": [
    "#### Humedad"
   ]
  },
  {
   "cell_type": "markdown",
   "metadata": {
    "id": "jX4VSmLbBGrK",
    "tags": []
   },
   "source": [
    "###### Basamos el nivel de comodidad de la humedad en el punto de rocío, ya que éste determina si el sudor se evaporará de la piel enfriando así el cuerpo. Cuando los puntos de rocío son más bajos se siente más seco y cuando son altos se siente más húmedo. A diferencia de la temperatura, que generalmente varía considerablemente entre la noche y el día, el punto de rocío tiende a cambiar más lentamente, así es que aunque la temperatura baje en la noche, en un día húmedo generalmente la noche es húmeda.\n",
    "\n",
    "###### En Australia la humedad percibida varía considerablemente.\n",
    "\n",
    "###### El período más húmedo del año dura 4,1 meses, del 30 de noviembre al 1 de abril, y durante ese tiempo el nivel de comodidad es bochornoso, opresivo o insoportable por lo menos durante el 10 % del tiempo. El mes con más días bochornosos en Australia es febrero, con 10,6 días bochornosos o peor.\n",
    "\n",
    "###### El mes con menos días bochornosos en Australia es julio, con 0,0 días bochornosos o peor."
   ]
  },
  {
   "cell_type": "markdown",
   "metadata": {
    "id": "S2c5dJdhBGrK"
   },
   "source": [
    "![](../IMG/humedad.PNG)"
   ]
  },
  {
   "cell_type": "markdown",
   "metadata": {
    "id": "XaY0TaBhBGrK",
    "tags": []
   },
   "source": [
    "#### Dato extra"
   ]
  },
  {
   "cell_type": "markdown",
   "metadata": {
    "id": "rEALh4UiBGrK"
   },
   "source": [
    "###### En Australia se utiliza el aprovechamiento de agua lluvia se como una solución muy común al problema de suministro de agua. En 1994 el Australian Bureau of Statistics (Oficina Australiana de Estadística) realizó un estudio mostrando que el 30.4 % de los hogares australianos ubicados en las zonas rurales y el 6.5% de los hogares en las ciudades utilizan algún sistema de aprovechamiento de agua lluvia, también se indica en el estudio que el 13 % de las casas donde se ha implementado un sistema de aprovechamiento de agua lluvia, el agua se utiliza para beber y cocinar.\n"
   ]
  },
  {
   "cell_type": "markdown",
   "metadata": {
    "id": "f3ShHh1aBGrK"
   },
   "source": [
    "#### Significado de Columnas\n",
    "###### Date --> Fecha de observción\n",
    "###### Location --> El nombre de la ubicación de la Estación Meteorológica\n",
    "###### MinTemp --> La Temperatura mínima en grados Centígrados\n",
    "###### MaxTemp --> La Temperatura máxima en grados Centígrados\n",
    "###### Rainfall --> La cantidad de lluvia registrada para el día en mm (Milímetros)\n",
    "###### Evaporation --> La llamada evaporación de bandeja Clase A (mm) en las 24 horas a las 9 a.m.\n",
    "###### Sunshine --> El número de horas de sol brillante en el día\n",
    "###### WindGustDir --> La dirección de la ráfaga de viento más fuerte en las 24 horas hasta la medianoche\n",
    "###### WindGustSpeed --> La velocidad (km/h) de la ráfaga de viento más fuerte en las 24 horas hasta la medianoche\n",
    "###### WindDir --> Dirección del viento\n",
    "###### WindSpeed --> Velocidad del viento (km/h) promediada durante 10 minutos\n",
    "###### Humidity --> Porcentaje de humedad\n",
    "###### Pressure --> Presión atmosférica (hpa) reducida al nivel medio del mar\n",
    "###### Cloud --> Fracción de cielo oscurecida por nubes, esto se mide en \"octas\", que son una unidad de octavos\n",
    "###### Temp --> Temperatura (Grados C°)\n",
    "###### RainToday --> Si la precipitación en 24 horas, desde las 9 AM, excede de 1 mm, se marca con un 1. (Dato booleano)\n",
    "###### RainTomorrow --> Una especie de medida del \"riesgo\" de llover al próximo día, utilizando la cantidad de lluvia al día siguiente en mm.\n",
    "\n",
    "\n",
    "\n"
   ]
  },
  {
   "cell_type": "markdown",
   "metadata": {
    "id": "ntgY7zaXBGrK"
   },
   "source": [
    "#### Preguntas\n",
    "###### 1. ¿Con que temperatura es mas frecuente es que llueva a las 3PM? Respuesta mas abajo crisp-dm2\n",
    "###### 2. ¿Cual es la media de temperatura minima en que llueve al siguiente dia? Respuesta mas abajo crisp-dm2\n",
    "###### 3. ¿A que velocidad del viento es mas probable que llueva? Respuesta mas abajo\n",
    "###### 4. ¿La presion atmosferica afecta para la lluvia? Respuesta mas abajo\n",
    "###### 5. ¿En que porcentaje de humedad es mas probable que llueva? Respuesta mas abajo"
   ]
  },
  {
   "cell_type": "markdown",
   "metadata": {
    "id": "jzEBicc0BGrL"
   },
   "source": [
    "#### CRISP-DM2 Conocer los datos"
   ]
  },
  {
   "cell_type": "code",
   "execution_count": null,
   "metadata": {
    "id": "9ibz05l3BGrL"
   },
   "outputs": [],
   "source": [
    "# Aqui importamos libreria pandas\n",
    "import pandas as pd"
   ]
  },
  {
   "cell_type": "code",
   "execution_count": null,
   "metadata": {
    "id": "-4hJpYRRBGrL"
   },
   "outputs": [],
   "source": [
    "# En estas linea de codigo buscamos el archivo .csv y lo guardamos en una ruta completa\n",
    "fullpath = \"../datasets/AUS/weatherAUS.csv\""
   ]
  },
  {
   "cell_type": "code",
   "execution_count": null,
   "metadata": {
    "id": "0HO9TWWrBGrM"
   },
   "outputs": [],
   "source": [
    "# Leemos el archivo con pandas y lo guardamos en la variable \"data\"\n",
    "data = pd.read_csv(fullpath)"
   ]
  },
  {
   "cell_type": "code",
   "execution_count": null,
   "metadata": {
    "id": "IaYN2rPQBGrM",
    "outputId": "48ae6022-5ccd-4f5b-aadf-60035407e5d9"
   },
   "outputs": [
    {
     "data": {
      "text/plain": [
       "(145460, 23)"
      ]
     },
     "execution_count": 5,
     "metadata": {},
     "output_type": "execute_result"
    }
   ],
   "source": [
    "# Con el siguiente codigo podemos ver la cantidad de filas y columnas\n",
    "data.shape"
   ]
  },
  {
   "cell_type": "code",
   "execution_count": null,
   "metadata": {
    "id": "VKWrKAaaBGrN",
    "outputId": "e4b33228-f57d-4864-baa6-2c89c1c6d52e"
   },
   "outputs": [
    {
     "data": {
      "text/html": [
       "<div>\n",
       "<style scoped>\n",
       "    .dataframe tbody tr th:only-of-type {\n",
       "        vertical-align: middle;\n",
       "    }\n",
       "\n",
       "    .dataframe tbody tr th {\n",
       "        vertical-align: top;\n",
       "    }\n",
       "\n",
       "    .dataframe thead th {\n",
       "        text-align: right;\n",
       "    }\n",
       "</style>\n",
       "<table border=\"1\" class=\"dataframe\">\n",
       "  <thead>\n",
       "    <tr style=\"text-align: right;\">\n",
       "      <th></th>\n",
       "      <th>Date</th>\n",
       "      <th>Location</th>\n",
       "      <th>MinTemp</th>\n",
       "      <th>MaxTemp</th>\n",
       "      <th>Rainfall</th>\n",
       "      <th>Evaporation</th>\n",
       "      <th>Sunshine</th>\n",
       "      <th>WindGustDir</th>\n",
       "      <th>WindGustSpeed</th>\n",
       "      <th>WindDir9am</th>\n",
       "      <th>...</th>\n",
       "      <th>Humidity9am</th>\n",
       "      <th>Humidity3pm</th>\n",
       "      <th>Pressure9am</th>\n",
       "      <th>Pressure3pm</th>\n",
       "      <th>Cloud9am</th>\n",
       "      <th>Cloud3pm</th>\n",
       "      <th>Temp9am</th>\n",
       "      <th>Temp3pm</th>\n",
       "      <th>RainToday</th>\n",
       "      <th>RainTomorrow</th>\n",
       "    </tr>\n",
       "  </thead>\n",
       "  <tbody>\n",
       "    <tr>\n",
       "      <th>0</th>\n",
       "      <td>2008-12-01</td>\n",
       "      <td>Albury</td>\n",
       "      <td>13.4</td>\n",
       "      <td>22.9</td>\n",
       "      <td>0.6</td>\n",
       "      <td>NaN</td>\n",
       "      <td>NaN</td>\n",
       "      <td>W</td>\n",
       "      <td>44.0</td>\n",
       "      <td>W</td>\n",
       "      <td>...</td>\n",
       "      <td>71.0</td>\n",
       "      <td>22.0</td>\n",
       "      <td>1007.7</td>\n",
       "      <td>1007.1</td>\n",
       "      <td>8.0</td>\n",
       "      <td>NaN</td>\n",
       "      <td>16.9</td>\n",
       "      <td>21.8</td>\n",
       "      <td>No</td>\n",
       "      <td>No</td>\n",
       "    </tr>\n",
       "    <tr>\n",
       "      <th>1</th>\n",
       "      <td>2008-12-02</td>\n",
       "      <td>Albury</td>\n",
       "      <td>7.4</td>\n",
       "      <td>25.1</td>\n",
       "      <td>0.0</td>\n",
       "      <td>NaN</td>\n",
       "      <td>NaN</td>\n",
       "      <td>WNW</td>\n",
       "      <td>44.0</td>\n",
       "      <td>NNW</td>\n",
       "      <td>...</td>\n",
       "      <td>44.0</td>\n",
       "      <td>25.0</td>\n",
       "      <td>1010.6</td>\n",
       "      <td>1007.8</td>\n",
       "      <td>NaN</td>\n",
       "      <td>NaN</td>\n",
       "      <td>17.2</td>\n",
       "      <td>24.3</td>\n",
       "      <td>No</td>\n",
       "      <td>No</td>\n",
       "    </tr>\n",
       "    <tr>\n",
       "      <th>2</th>\n",
       "      <td>2008-12-03</td>\n",
       "      <td>Albury</td>\n",
       "      <td>12.9</td>\n",
       "      <td>25.7</td>\n",
       "      <td>0.0</td>\n",
       "      <td>NaN</td>\n",
       "      <td>NaN</td>\n",
       "      <td>WSW</td>\n",
       "      <td>46.0</td>\n",
       "      <td>W</td>\n",
       "      <td>...</td>\n",
       "      <td>38.0</td>\n",
       "      <td>30.0</td>\n",
       "      <td>1007.6</td>\n",
       "      <td>1008.7</td>\n",
       "      <td>NaN</td>\n",
       "      <td>2.0</td>\n",
       "      <td>21.0</td>\n",
       "      <td>23.2</td>\n",
       "      <td>No</td>\n",
       "      <td>No</td>\n",
       "    </tr>\n",
       "    <tr>\n",
       "      <th>3</th>\n",
       "      <td>2008-12-04</td>\n",
       "      <td>Albury</td>\n",
       "      <td>9.2</td>\n",
       "      <td>28.0</td>\n",
       "      <td>0.0</td>\n",
       "      <td>NaN</td>\n",
       "      <td>NaN</td>\n",
       "      <td>NE</td>\n",
       "      <td>24.0</td>\n",
       "      <td>SE</td>\n",
       "      <td>...</td>\n",
       "      <td>45.0</td>\n",
       "      <td>16.0</td>\n",
       "      <td>1017.6</td>\n",
       "      <td>1012.8</td>\n",
       "      <td>NaN</td>\n",
       "      <td>NaN</td>\n",
       "      <td>18.1</td>\n",
       "      <td>26.5</td>\n",
       "      <td>No</td>\n",
       "      <td>No</td>\n",
       "    </tr>\n",
       "    <tr>\n",
       "      <th>4</th>\n",
       "      <td>2008-12-05</td>\n",
       "      <td>Albury</td>\n",
       "      <td>17.5</td>\n",
       "      <td>32.3</td>\n",
       "      <td>1.0</td>\n",
       "      <td>NaN</td>\n",
       "      <td>NaN</td>\n",
       "      <td>W</td>\n",
       "      <td>41.0</td>\n",
       "      <td>ENE</td>\n",
       "      <td>...</td>\n",
       "      <td>82.0</td>\n",
       "      <td>33.0</td>\n",
       "      <td>1010.8</td>\n",
       "      <td>1006.0</td>\n",
       "      <td>7.0</td>\n",
       "      <td>8.0</td>\n",
       "      <td>17.8</td>\n",
       "      <td>29.7</td>\n",
       "      <td>No</td>\n",
       "      <td>No</td>\n",
       "    </tr>\n",
       "  </tbody>\n",
       "</table>\n",
       "<p>5 rows × 23 columns</p>\n",
       "</div>"
      ],
      "text/plain": [
       "         Date Location  MinTemp  MaxTemp  Rainfall  Evaporation  Sunshine  \\\n",
       "0  2008-12-01   Albury     13.4     22.9       0.6          NaN       NaN   \n",
       "1  2008-12-02   Albury      7.4     25.1       0.0          NaN       NaN   \n",
       "2  2008-12-03   Albury     12.9     25.7       0.0          NaN       NaN   \n",
       "3  2008-12-04   Albury      9.2     28.0       0.0          NaN       NaN   \n",
       "4  2008-12-05   Albury     17.5     32.3       1.0          NaN       NaN   \n",
       "\n",
       "  WindGustDir  WindGustSpeed WindDir9am  ... Humidity9am  Humidity3pm  \\\n",
       "0           W           44.0          W  ...        71.0         22.0   \n",
       "1         WNW           44.0        NNW  ...        44.0         25.0   \n",
       "2         WSW           46.0          W  ...        38.0         30.0   \n",
       "3          NE           24.0         SE  ...        45.0         16.0   \n",
       "4           W           41.0        ENE  ...        82.0         33.0   \n",
       "\n",
       "   Pressure9am  Pressure3pm  Cloud9am  Cloud3pm  Temp9am  Temp3pm  RainToday  \\\n",
       "0       1007.7       1007.1       8.0       NaN     16.9     21.8         No   \n",
       "1       1010.6       1007.8       NaN       NaN     17.2     24.3         No   \n",
       "2       1007.6       1008.7       NaN       2.0     21.0     23.2         No   \n",
       "3       1017.6       1012.8       NaN       NaN     18.1     26.5         No   \n",
       "4       1010.8       1006.0       7.0       8.0     17.8     29.7         No   \n",
       "\n",
       "   RainTomorrow  \n",
       "0            No  \n",
       "1            No  \n",
       "2            No  \n",
       "3            No  \n",
       "4            No  \n",
       "\n",
       "[5 rows x 23 columns]"
      ]
     },
     "execution_count": 6,
     "metadata": {},
     "output_type": "execute_result"
    }
   ],
   "source": [
    "# Con el siguiente codigo podemos ver los 5 primeros resultados del dataset\n",
    "data.head()"
   ]
  },
  {
   "cell_type": "code",
   "execution_count": null,
   "metadata": {
    "id": "gpCZH9RXBGrN",
    "outputId": "f21cdb98-783e-4363-b55f-5634f6273698"
   },
   "outputs": [
    {
     "data": {
      "text/html": [
       "<div>\n",
       "<style scoped>\n",
       "    .dataframe tbody tr th:only-of-type {\n",
       "        vertical-align: middle;\n",
       "    }\n",
       "\n",
       "    .dataframe tbody tr th {\n",
       "        vertical-align: top;\n",
       "    }\n",
       "\n",
       "    .dataframe thead th {\n",
       "        text-align: right;\n",
       "    }\n",
       "</style>\n",
       "<table border=\"1\" class=\"dataframe\">\n",
       "  <thead>\n",
       "    <tr style=\"text-align: right;\">\n",
       "      <th></th>\n",
       "      <th>Date</th>\n",
       "      <th>Location</th>\n",
       "      <th>MinTemp</th>\n",
       "      <th>MaxTemp</th>\n",
       "      <th>Rainfall</th>\n",
       "      <th>Evaporation</th>\n",
       "      <th>Sunshine</th>\n",
       "      <th>WindGustDir</th>\n",
       "      <th>WindGustSpeed</th>\n",
       "      <th>WindDir9am</th>\n",
       "      <th>...</th>\n",
       "      <th>Humidity9am</th>\n",
       "      <th>Humidity3pm</th>\n",
       "      <th>Pressure9am</th>\n",
       "      <th>Pressure3pm</th>\n",
       "      <th>Cloud9am</th>\n",
       "      <th>Cloud3pm</th>\n",
       "      <th>Temp9am</th>\n",
       "      <th>Temp3pm</th>\n",
       "      <th>RainToday</th>\n",
       "      <th>RainTomorrow</th>\n",
       "    </tr>\n",
       "  </thead>\n",
       "  <tbody>\n",
       "    <tr>\n",
       "      <th>145455</th>\n",
       "      <td>2017-06-21</td>\n",
       "      <td>Uluru</td>\n",
       "      <td>2.8</td>\n",
       "      <td>23.4</td>\n",
       "      <td>0.0</td>\n",
       "      <td>NaN</td>\n",
       "      <td>NaN</td>\n",
       "      <td>E</td>\n",
       "      <td>31.0</td>\n",
       "      <td>SE</td>\n",
       "      <td>...</td>\n",
       "      <td>51.0</td>\n",
       "      <td>24.0</td>\n",
       "      <td>1024.6</td>\n",
       "      <td>1020.3</td>\n",
       "      <td>NaN</td>\n",
       "      <td>NaN</td>\n",
       "      <td>10.1</td>\n",
       "      <td>22.4</td>\n",
       "      <td>No</td>\n",
       "      <td>No</td>\n",
       "    </tr>\n",
       "    <tr>\n",
       "      <th>145456</th>\n",
       "      <td>2017-06-22</td>\n",
       "      <td>Uluru</td>\n",
       "      <td>3.6</td>\n",
       "      <td>25.3</td>\n",
       "      <td>0.0</td>\n",
       "      <td>NaN</td>\n",
       "      <td>NaN</td>\n",
       "      <td>NNW</td>\n",
       "      <td>22.0</td>\n",
       "      <td>SE</td>\n",
       "      <td>...</td>\n",
       "      <td>56.0</td>\n",
       "      <td>21.0</td>\n",
       "      <td>1023.5</td>\n",
       "      <td>1019.1</td>\n",
       "      <td>NaN</td>\n",
       "      <td>NaN</td>\n",
       "      <td>10.9</td>\n",
       "      <td>24.5</td>\n",
       "      <td>No</td>\n",
       "      <td>No</td>\n",
       "    </tr>\n",
       "    <tr>\n",
       "      <th>145457</th>\n",
       "      <td>2017-06-23</td>\n",
       "      <td>Uluru</td>\n",
       "      <td>5.4</td>\n",
       "      <td>26.9</td>\n",
       "      <td>0.0</td>\n",
       "      <td>NaN</td>\n",
       "      <td>NaN</td>\n",
       "      <td>N</td>\n",
       "      <td>37.0</td>\n",
       "      <td>SE</td>\n",
       "      <td>...</td>\n",
       "      <td>53.0</td>\n",
       "      <td>24.0</td>\n",
       "      <td>1021.0</td>\n",
       "      <td>1016.8</td>\n",
       "      <td>NaN</td>\n",
       "      <td>NaN</td>\n",
       "      <td>12.5</td>\n",
       "      <td>26.1</td>\n",
       "      <td>No</td>\n",
       "      <td>No</td>\n",
       "    </tr>\n",
       "    <tr>\n",
       "      <th>145458</th>\n",
       "      <td>2017-06-24</td>\n",
       "      <td>Uluru</td>\n",
       "      <td>7.8</td>\n",
       "      <td>27.0</td>\n",
       "      <td>0.0</td>\n",
       "      <td>NaN</td>\n",
       "      <td>NaN</td>\n",
       "      <td>SE</td>\n",
       "      <td>28.0</td>\n",
       "      <td>SSE</td>\n",
       "      <td>...</td>\n",
       "      <td>51.0</td>\n",
       "      <td>24.0</td>\n",
       "      <td>1019.4</td>\n",
       "      <td>1016.5</td>\n",
       "      <td>3.0</td>\n",
       "      <td>2.0</td>\n",
       "      <td>15.1</td>\n",
       "      <td>26.0</td>\n",
       "      <td>No</td>\n",
       "      <td>No</td>\n",
       "    </tr>\n",
       "    <tr>\n",
       "      <th>145459</th>\n",
       "      <td>2017-06-25</td>\n",
       "      <td>Uluru</td>\n",
       "      <td>14.9</td>\n",
       "      <td>NaN</td>\n",
       "      <td>0.0</td>\n",
       "      <td>NaN</td>\n",
       "      <td>NaN</td>\n",
       "      <td>NaN</td>\n",
       "      <td>NaN</td>\n",
       "      <td>ESE</td>\n",
       "      <td>...</td>\n",
       "      <td>62.0</td>\n",
       "      <td>36.0</td>\n",
       "      <td>1020.2</td>\n",
       "      <td>1017.9</td>\n",
       "      <td>8.0</td>\n",
       "      <td>8.0</td>\n",
       "      <td>15.0</td>\n",
       "      <td>20.9</td>\n",
       "      <td>No</td>\n",
       "      <td>NaN</td>\n",
       "    </tr>\n",
       "  </tbody>\n",
       "</table>\n",
       "<p>5 rows × 23 columns</p>\n",
       "</div>"
      ],
      "text/plain": [
       "              Date Location  MinTemp  MaxTemp  Rainfall  Evaporation  \\\n",
       "145455  2017-06-21    Uluru      2.8     23.4       0.0          NaN   \n",
       "145456  2017-06-22    Uluru      3.6     25.3       0.0          NaN   \n",
       "145457  2017-06-23    Uluru      5.4     26.9       0.0          NaN   \n",
       "145458  2017-06-24    Uluru      7.8     27.0       0.0          NaN   \n",
       "145459  2017-06-25    Uluru     14.9      NaN       0.0          NaN   \n",
       "\n",
       "        Sunshine WindGustDir  WindGustSpeed WindDir9am  ... Humidity9am  \\\n",
       "145455       NaN           E           31.0         SE  ...        51.0   \n",
       "145456       NaN         NNW           22.0         SE  ...        56.0   \n",
       "145457       NaN           N           37.0         SE  ...        53.0   \n",
       "145458       NaN          SE           28.0        SSE  ...        51.0   \n",
       "145459       NaN         NaN            NaN        ESE  ...        62.0   \n",
       "\n",
       "        Humidity3pm  Pressure9am  Pressure3pm  Cloud9am  Cloud3pm  Temp9am  \\\n",
       "145455         24.0       1024.6       1020.3       NaN       NaN     10.1   \n",
       "145456         21.0       1023.5       1019.1       NaN       NaN     10.9   \n",
       "145457         24.0       1021.0       1016.8       NaN       NaN     12.5   \n",
       "145458         24.0       1019.4       1016.5       3.0       2.0     15.1   \n",
       "145459         36.0       1020.2       1017.9       8.0       8.0     15.0   \n",
       "\n",
       "        Temp3pm  RainToday  RainTomorrow  \n",
       "145455     22.4         No            No  \n",
       "145456     24.5         No            No  \n",
       "145457     26.1         No            No  \n",
       "145458     26.0         No            No  \n",
       "145459     20.9         No           NaN  \n",
       "\n",
       "[5 rows x 23 columns]"
      ]
     },
     "execution_count": 7,
     "metadata": {},
     "output_type": "execute_result"
    }
   ],
   "source": [
    "# Con el siguiente codigo podemos ver los 5 ultimos resultados del dataset\n",
    "data.tail()"
   ]
  },
  {
   "cell_type": "code",
   "execution_count": null,
   "metadata": {
    "id": "Rd0p67cGBGrN",
    "outputId": "840d63b2-7506-47a7-a2e6-b77039a67382"
   },
   "outputs": [
    {
     "data": {
      "text/plain": [
       "['Date',\n",
       " 'Location',\n",
       " 'MinTemp',\n",
       " 'MaxTemp',\n",
       " 'Rainfall',\n",
       " 'Evaporation',\n",
       " 'Sunshine',\n",
       " 'WindGustDir',\n",
       " 'WindGustSpeed',\n",
       " 'WindDir9am',\n",
       " 'WindDir3pm',\n",
       " 'WindSpeed9am',\n",
       " 'WindSpeed3pm',\n",
       " 'Humidity9am',\n",
       " 'Humidity3pm',\n",
       " 'Pressure9am',\n",
       " 'Pressure3pm',\n",
       " 'Cloud9am',\n",
       " 'Cloud3pm',\n",
       " 'Temp9am',\n",
       " 'Temp3pm',\n",
       " 'RainToday',\n",
       " 'RainTomorrow']"
      ]
     },
     "execution_count": 8,
     "metadata": {},
     "output_type": "execute_result"
    }
   ],
   "source": [
    "# Se hace una lista de las columnas\n",
    "data.columns.values.tolist()"
   ]
  },
  {
   "cell_type": "code",
   "execution_count": null,
   "metadata": {
    "id": "ukWeVtT8BGrO",
    "outputId": "c0233a1e-a83f-4d44-e5cf-01cc56ab70f6"
   },
   "outputs": [
    {
     "data": {
      "text/plain": [
       "Date              object\n",
       "Location          object\n",
       "MinTemp          float64\n",
       "MaxTemp          float64\n",
       "Rainfall         float64\n",
       "Evaporation      float64\n",
       "Sunshine         float64\n",
       "WindGustDir       object\n",
       "WindGustSpeed    float64\n",
       "WindDir9am        object\n",
       "WindDir3pm        object\n",
       "WindSpeed9am     float64\n",
       "WindSpeed3pm     float64\n",
       "Humidity9am      float64\n",
       "Humidity3pm      float64\n",
       "Pressure9am      float64\n",
       "Pressure3pm      float64\n",
       "Cloud9am         float64\n",
       "Cloud3pm         float64\n",
       "Temp9am          float64\n",
       "Temp3pm          float64\n",
       "RainToday         object\n",
       "RainTomorrow      object\n",
       "dtype: object"
      ]
     },
     "execution_count": 9,
     "metadata": {},
     "output_type": "execute_result"
    }
   ],
   "source": [
    "# Conocemos los tipos de datos en cada columna\n",
    "data.dtypes"
   ]
  },
  {
   "cell_type": "code",
   "execution_count": null,
   "metadata": {
    "id": "OvEFjEfcBGrO",
    "outputId": "5c849f10-ce5d-498e-d680-a51e74e30e79"
   },
   "outputs": [
    {
     "data": {
      "text/html": [
       "<div>\n",
       "<style scoped>\n",
       "    .dataframe tbody tr th:only-of-type {\n",
       "        vertical-align: middle;\n",
       "    }\n",
       "\n",
       "    .dataframe tbody tr th {\n",
       "        vertical-align: top;\n",
       "    }\n",
       "\n",
       "    .dataframe thead th {\n",
       "        text-align: right;\n",
       "    }\n",
       "</style>\n",
       "<table border=\"1\" class=\"dataframe\">\n",
       "  <thead>\n",
       "    <tr style=\"text-align: right;\">\n",
       "      <th></th>\n",
       "      <th>Date</th>\n",
       "      <th>Location</th>\n",
       "      <th>MinTemp</th>\n",
       "      <th>MaxTemp</th>\n",
       "      <th>Rainfall</th>\n",
       "      <th>Evaporation</th>\n",
       "      <th>Sunshine</th>\n",
       "      <th>WindGustDir</th>\n",
       "      <th>WindGustSpeed</th>\n",
       "      <th>WindDir9am</th>\n",
       "      <th>...</th>\n",
       "      <th>Humidity9am</th>\n",
       "      <th>Humidity3pm</th>\n",
       "      <th>Pressure9am</th>\n",
       "      <th>Pressure3pm</th>\n",
       "      <th>Cloud9am</th>\n",
       "      <th>Cloud3pm</th>\n",
       "      <th>Temp9am</th>\n",
       "      <th>Temp3pm</th>\n",
       "      <th>RainToday</th>\n",
       "      <th>RainTomorrow</th>\n",
       "    </tr>\n",
       "  </thead>\n",
       "  <tbody>\n",
       "    <tr>\n",
       "      <th>0</th>\n",
       "      <td>False</td>\n",
       "      <td>False</td>\n",
       "      <td>False</td>\n",
       "      <td>False</td>\n",
       "      <td>False</td>\n",
       "      <td>True</td>\n",
       "      <td>True</td>\n",
       "      <td>False</td>\n",
       "      <td>False</td>\n",
       "      <td>False</td>\n",
       "      <td>...</td>\n",
       "      <td>False</td>\n",
       "      <td>False</td>\n",
       "      <td>False</td>\n",
       "      <td>False</td>\n",
       "      <td>False</td>\n",
       "      <td>True</td>\n",
       "      <td>False</td>\n",
       "      <td>False</td>\n",
       "      <td>False</td>\n",
       "      <td>False</td>\n",
       "    </tr>\n",
       "    <tr>\n",
       "      <th>1</th>\n",
       "      <td>False</td>\n",
       "      <td>False</td>\n",
       "      <td>False</td>\n",
       "      <td>False</td>\n",
       "      <td>False</td>\n",
       "      <td>True</td>\n",
       "      <td>True</td>\n",
       "      <td>False</td>\n",
       "      <td>False</td>\n",
       "      <td>False</td>\n",
       "      <td>...</td>\n",
       "      <td>False</td>\n",
       "      <td>False</td>\n",
       "      <td>False</td>\n",
       "      <td>False</td>\n",
       "      <td>True</td>\n",
       "      <td>True</td>\n",
       "      <td>False</td>\n",
       "      <td>False</td>\n",
       "      <td>False</td>\n",
       "      <td>False</td>\n",
       "    </tr>\n",
       "    <tr>\n",
       "      <th>2</th>\n",
       "      <td>False</td>\n",
       "      <td>False</td>\n",
       "      <td>False</td>\n",
       "      <td>False</td>\n",
       "      <td>False</td>\n",
       "      <td>True</td>\n",
       "      <td>True</td>\n",
       "      <td>False</td>\n",
       "      <td>False</td>\n",
       "      <td>False</td>\n",
       "      <td>...</td>\n",
       "      <td>False</td>\n",
       "      <td>False</td>\n",
       "      <td>False</td>\n",
       "      <td>False</td>\n",
       "      <td>True</td>\n",
       "      <td>False</td>\n",
       "      <td>False</td>\n",
       "      <td>False</td>\n",
       "      <td>False</td>\n",
       "      <td>False</td>\n",
       "    </tr>\n",
       "    <tr>\n",
       "      <th>3</th>\n",
       "      <td>False</td>\n",
       "      <td>False</td>\n",
       "      <td>False</td>\n",
       "      <td>False</td>\n",
       "      <td>False</td>\n",
       "      <td>True</td>\n",
       "      <td>True</td>\n",
       "      <td>False</td>\n",
       "      <td>False</td>\n",
       "      <td>False</td>\n",
       "      <td>...</td>\n",
       "      <td>False</td>\n",
       "      <td>False</td>\n",
       "      <td>False</td>\n",
       "      <td>False</td>\n",
       "      <td>True</td>\n",
       "      <td>True</td>\n",
       "      <td>False</td>\n",
       "      <td>False</td>\n",
       "      <td>False</td>\n",
       "      <td>False</td>\n",
       "    </tr>\n",
       "    <tr>\n",
       "      <th>4</th>\n",
       "      <td>False</td>\n",
       "      <td>False</td>\n",
       "      <td>False</td>\n",
       "      <td>False</td>\n",
       "      <td>False</td>\n",
       "      <td>True</td>\n",
       "      <td>True</td>\n",
       "      <td>False</td>\n",
       "      <td>False</td>\n",
       "      <td>False</td>\n",
       "      <td>...</td>\n",
       "      <td>False</td>\n",
       "      <td>False</td>\n",
       "      <td>False</td>\n",
       "      <td>False</td>\n",
       "      <td>False</td>\n",
       "      <td>False</td>\n",
       "      <td>False</td>\n",
       "      <td>False</td>\n",
       "      <td>False</td>\n",
       "      <td>False</td>\n",
       "    </tr>\n",
       "    <tr>\n",
       "      <th>...</th>\n",
       "      <td>...</td>\n",
       "      <td>...</td>\n",
       "      <td>...</td>\n",
       "      <td>...</td>\n",
       "      <td>...</td>\n",
       "      <td>...</td>\n",
       "      <td>...</td>\n",
       "      <td>...</td>\n",
       "      <td>...</td>\n",
       "      <td>...</td>\n",
       "      <td>...</td>\n",
       "      <td>...</td>\n",
       "      <td>...</td>\n",
       "      <td>...</td>\n",
       "      <td>...</td>\n",
       "      <td>...</td>\n",
       "      <td>...</td>\n",
       "      <td>...</td>\n",
       "      <td>...</td>\n",
       "      <td>...</td>\n",
       "      <td>...</td>\n",
       "    </tr>\n",
       "    <tr>\n",
       "      <th>145455</th>\n",
       "      <td>False</td>\n",
       "      <td>False</td>\n",
       "      <td>False</td>\n",
       "      <td>False</td>\n",
       "      <td>False</td>\n",
       "      <td>True</td>\n",
       "      <td>True</td>\n",
       "      <td>False</td>\n",
       "      <td>False</td>\n",
       "      <td>False</td>\n",
       "      <td>...</td>\n",
       "      <td>False</td>\n",
       "      <td>False</td>\n",
       "      <td>False</td>\n",
       "      <td>False</td>\n",
       "      <td>True</td>\n",
       "      <td>True</td>\n",
       "      <td>False</td>\n",
       "      <td>False</td>\n",
       "      <td>False</td>\n",
       "      <td>False</td>\n",
       "    </tr>\n",
       "    <tr>\n",
       "      <th>145456</th>\n",
       "      <td>False</td>\n",
       "      <td>False</td>\n",
       "      <td>False</td>\n",
       "      <td>False</td>\n",
       "      <td>False</td>\n",
       "      <td>True</td>\n",
       "      <td>True</td>\n",
       "      <td>False</td>\n",
       "      <td>False</td>\n",
       "      <td>False</td>\n",
       "      <td>...</td>\n",
       "      <td>False</td>\n",
       "      <td>False</td>\n",
       "      <td>False</td>\n",
       "      <td>False</td>\n",
       "      <td>True</td>\n",
       "      <td>True</td>\n",
       "      <td>False</td>\n",
       "      <td>False</td>\n",
       "      <td>False</td>\n",
       "      <td>False</td>\n",
       "    </tr>\n",
       "    <tr>\n",
       "      <th>145457</th>\n",
       "      <td>False</td>\n",
       "      <td>False</td>\n",
       "      <td>False</td>\n",
       "      <td>False</td>\n",
       "      <td>False</td>\n",
       "      <td>True</td>\n",
       "      <td>True</td>\n",
       "      <td>False</td>\n",
       "      <td>False</td>\n",
       "      <td>False</td>\n",
       "      <td>...</td>\n",
       "      <td>False</td>\n",
       "      <td>False</td>\n",
       "      <td>False</td>\n",
       "      <td>False</td>\n",
       "      <td>True</td>\n",
       "      <td>True</td>\n",
       "      <td>False</td>\n",
       "      <td>False</td>\n",
       "      <td>False</td>\n",
       "      <td>False</td>\n",
       "    </tr>\n",
       "    <tr>\n",
       "      <th>145458</th>\n",
       "      <td>False</td>\n",
       "      <td>False</td>\n",
       "      <td>False</td>\n",
       "      <td>False</td>\n",
       "      <td>False</td>\n",
       "      <td>True</td>\n",
       "      <td>True</td>\n",
       "      <td>False</td>\n",
       "      <td>False</td>\n",
       "      <td>False</td>\n",
       "      <td>...</td>\n",
       "      <td>False</td>\n",
       "      <td>False</td>\n",
       "      <td>False</td>\n",
       "      <td>False</td>\n",
       "      <td>False</td>\n",
       "      <td>False</td>\n",
       "      <td>False</td>\n",
       "      <td>False</td>\n",
       "      <td>False</td>\n",
       "      <td>False</td>\n",
       "    </tr>\n",
       "    <tr>\n",
       "      <th>145459</th>\n",
       "      <td>False</td>\n",
       "      <td>False</td>\n",
       "      <td>False</td>\n",
       "      <td>True</td>\n",
       "      <td>False</td>\n",
       "      <td>True</td>\n",
       "      <td>True</td>\n",
       "      <td>True</td>\n",
       "      <td>True</td>\n",
       "      <td>False</td>\n",
       "      <td>...</td>\n",
       "      <td>False</td>\n",
       "      <td>False</td>\n",
       "      <td>False</td>\n",
       "      <td>False</td>\n",
       "      <td>False</td>\n",
       "      <td>False</td>\n",
       "      <td>False</td>\n",
       "      <td>False</td>\n",
       "      <td>False</td>\n",
       "      <td>True</td>\n",
       "    </tr>\n",
       "  </tbody>\n",
       "</table>\n",
       "<p>145460 rows × 23 columns</p>\n",
       "</div>"
      ],
      "text/plain": [
       "         Date  Location  MinTemp  MaxTemp  Rainfall  Evaporation  Sunshine  \\\n",
       "0       False     False    False    False     False         True      True   \n",
       "1       False     False    False    False     False         True      True   \n",
       "2       False     False    False    False     False         True      True   \n",
       "3       False     False    False    False     False         True      True   \n",
       "4       False     False    False    False     False         True      True   \n",
       "...       ...       ...      ...      ...       ...          ...       ...   \n",
       "145455  False     False    False    False     False         True      True   \n",
       "145456  False     False    False    False     False         True      True   \n",
       "145457  False     False    False    False     False         True      True   \n",
       "145458  False     False    False    False     False         True      True   \n",
       "145459  False     False    False     True     False         True      True   \n",
       "\n",
       "        WindGustDir  WindGustSpeed  WindDir9am  ...  Humidity9am  Humidity3pm  \\\n",
       "0             False          False       False  ...        False        False   \n",
       "1             False          False       False  ...        False        False   \n",
       "2             False          False       False  ...        False        False   \n",
       "3             False          False       False  ...        False        False   \n",
       "4             False          False       False  ...        False        False   \n",
       "...             ...            ...         ...  ...          ...          ...   \n",
       "145455        False          False       False  ...        False        False   \n",
       "145456        False          False       False  ...        False        False   \n",
       "145457        False          False       False  ...        False        False   \n",
       "145458        False          False       False  ...        False        False   \n",
       "145459         True           True       False  ...        False        False   \n",
       "\n",
       "        Pressure9am  Pressure3pm  Cloud9am  Cloud3pm  Temp9am  Temp3pm  \\\n",
       "0             False        False     False      True    False    False   \n",
       "1             False        False      True      True    False    False   \n",
       "2             False        False      True     False    False    False   \n",
       "3             False        False      True      True    False    False   \n",
       "4             False        False     False     False    False    False   \n",
       "...             ...          ...       ...       ...      ...      ...   \n",
       "145455        False        False      True      True    False    False   \n",
       "145456        False        False      True      True    False    False   \n",
       "145457        False        False      True      True    False    False   \n",
       "145458        False        False     False     False    False    False   \n",
       "145459        False        False     False     False    False    False   \n",
       "\n",
       "        RainToday  RainTomorrow  \n",
       "0           False         False  \n",
       "1           False         False  \n",
       "2           False         False  \n",
       "3           False         False  \n",
       "4           False         False  \n",
       "...           ...           ...  \n",
       "145455      False         False  \n",
       "145456      False         False  \n",
       "145457      False         False  \n",
       "145458      False         False  \n",
       "145459      False          True  \n",
       "\n",
       "[145460 rows x 23 columns]"
      ]
     },
     "execution_count": 10,
     "metadata": {},
     "output_type": "execute_result"
    }
   ],
   "source": [
    "# Buscamos valores nulos\n",
    "pd.isnull(data)"
   ]
  },
  {
   "cell_type": "code",
   "execution_count": null,
   "metadata": {
    "id": "YitWPSODBGrO",
    "outputId": "b10d853b-20e8-4d71-c379-08f118c34a6b"
   },
   "outputs": [
    {
     "data": {
      "text/plain": [
       "343248"
      ]
     },
     "execution_count": 11,
     "metadata": {},
     "output_type": "execute_result"
    }
   ],
   "source": [
    "# Sumas total de los nulos\n",
    "pd.isnull(data).values.ravel().sum()"
   ]
  },
  {
   "cell_type": "code",
   "execution_count": null,
   "metadata": {
    "id": "Dvei74fTBGrO",
    "outputId": "12a8e36a-b056-4787-f054-6c294610a8cc"
   },
   "outputs": [
    {
     "data": {
      "text/plain": [
       "3345580"
      ]
     },
     "execution_count": 12,
     "metadata": {},
     "output_type": "execute_result"
    }
   ],
   "source": [
    "# Conocemos cuantos datos en total tiene el datasets\n",
    "data.size"
   ]
  },
  {
   "cell_type": "markdown",
   "metadata": {
    "id": "3EPCLSu-BGrO"
   },
   "source": [
    "#### Respuesta 1\n",
    "###### ¿Con que temperatura es mas frecuente es que llueva a las 3PM?\n",
    "###### Es mas frecuente en temperaturas de 18º a 20º grados"
   ]
  },
  {
   "cell_type": "markdown",
   "metadata": {
    "id": "0suqbWBuBGrO"
   },
   "source": [
    "##### ¿Como lo descubrimos?"
   ]
  },
  {
   "cell_type": "code",
   "execution_count": null,
   "metadata": {
    "id": "artCwv0KBGrO"
   },
   "outputs": [],
   "source": [
    "# Agrupamos la columna \"RainToday\"\n",
    "lluvia = data.groupby(\"RainToday\")"
   ]
  },
  {
   "cell_type": "code",
   "execution_count": null,
   "metadata": {
    "id": "JJ60mL-VBGrP"
   },
   "outputs": [],
   "source": [
    "# De la columna agrupada solo mostramos los que tengas la palabra \"Yes\"\n",
    "temp3lluvia = lluvia.get_group(\"Yes\")"
   ]
  },
  {
   "cell_type": "code",
   "execution_count": null,
   "metadata": {
    "id": "-Vu65entBGrS",
    "outputId": "d771d76e-e492-44ba-c1af-846878172aea"
   },
   "outputs": [
    {
     "data": {
      "text/html": [
       "<div>\n",
       "<style scoped>\n",
       "    .dataframe tbody tr th:only-of-type {\n",
       "        vertical-align: middle;\n",
       "    }\n",
       "\n",
       "    .dataframe tbody tr th {\n",
       "        vertical-align: top;\n",
       "    }\n",
       "\n",
       "    .dataframe thead th {\n",
       "        text-align: right;\n",
       "    }\n",
       "</style>\n",
       "<table border=\"1\" class=\"dataframe\">\n",
       "  <thead>\n",
       "    <tr style=\"text-align: right;\">\n",
       "      <th></th>\n",
       "      <th>Date</th>\n",
       "      <th>Location</th>\n",
       "      <th>MinTemp</th>\n",
       "      <th>MaxTemp</th>\n",
       "      <th>Rainfall</th>\n",
       "      <th>Evaporation</th>\n",
       "      <th>Sunshine</th>\n",
       "      <th>WindGustDir</th>\n",
       "      <th>WindGustSpeed</th>\n",
       "      <th>WindDir9am</th>\n",
       "      <th>...</th>\n",
       "      <th>Humidity9am</th>\n",
       "      <th>Humidity3pm</th>\n",
       "      <th>Pressure9am</th>\n",
       "      <th>Pressure3pm</th>\n",
       "      <th>Cloud9am</th>\n",
       "      <th>Cloud3pm</th>\n",
       "      <th>Temp9am</th>\n",
       "      <th>Temp3pm</th>\n",
       "      <th>RainToday</th>\n",
       "      <th>RainTomorrow</th>\n",
       "    </tr>\n",
       "  </thead>\n",
       "  <tbody>\n",
       "    <tr>\n",
       "      <th>9</th>\n",
       "      <td>2008-12-10</td>\n",
       "      <td>Albury</td>\n",
       "      <td>13.1</td>\n",
       "      <td>30.1</td>\n",
       "      <td>1.4</td>\n",
       "      <td>NaN</td>\n",
       "      <td>NaN</td>\n",
       "      <td>W</td>\n",
       "      <td>28.0</td>\n",
       "      <td>S</td>\n",
       "      <td>...</td>\n",
       "      <td>58.0</td>\n",
       "      <td>27.0</td>\n",
       "      <td>1007.0</td>\n",
       "      <td>1005.7</td>\n",
       "      <td>NaN</td>\n",
       "      <td>NaN</td>\n",
       "      <td>20.1</td>\n",
       "      <td>28.2</td>\n",
       "      <td>Yes</td>\n",
       "      <td>No</td>\n",
       "    </tr>\n",
       "    <tr>\n",
       "      <th>11</th>\n",
       "      <td>2008-12-12</td>\n",
       "      <td>Albury</td>\n",
       "      <td>15.9</td>\n",
       "      <td>21.7</td>\n",
       "      <td>2.2</td>\n",
       "      <td>NaN</td>\n",
       "      <td>NaN</td>\n",
       "      <td>NNE</td>\n",
       "      <td>31.0</td>\n",
       "      <td>NE</td>\n",
       "      <td>...</td>\n",
       "      <td>89.0</td>\n",
       "      <td>91.0</td>\n",
       "      <td>1010.5</td>\n",
       "      <td>1004.2</td>\n",
       "      <td>8.0</td>\n",
       "      <td>8.0</td>\n",
       "      <td>15.9</td>\n",
       "      <td>17.0</td>\n",
       "      <td>Yes</td>\n",
       "      <td>Yes</td>\n",
       "    </tr>\n",
       "    <tr>\n",
       "      <th>12</th>\n",
       "      <td>2008-12-13</td>\n",
       "      <td>Albury</td>\n",
       "      <td>15.9</td>\n",
       "      <td>18.6</td>\n",
       "      <td>15.6</td>\n",
       "      <td>NaN</td>\n",
       "      <td>NaN</td>\n",
       "      <td>W</td>\n",
       "      <td>61.0</td>\n",
       "      <td>NNW</td>\n",
       "      <td>...</td>\n",
       "      <td>76.0</td>\n",
       "      <td>93.0</td>\n",
       "      <td>994.3</td>\n",
       "      <td>993.0</td>\n",
       "      <td>8.0</td>\n",
       "      <td>8.0</td>\n",
       "      <td>17.4</td>\n",
       "      <td>15.8</td>\n",
       "      <td>Yes</td>\n",
       "      <td>Yes</td>\n",
       "    </tr>\n",
       "    <tr>\n",
       "      <th>13</th>\n",
       "      <td>2008-12-14</td>\n",
       "      <td>Albury</td>\n",
       "      <td>12.6</td>\n",
       "      <td>21.0</td>\n",
       "      <td>3.6</td>\n",
       "      <td>NaN</td>\n",
       "      <td>NaN</td>\n",
       "      <td>SW</td>\n",
       "      <td>44.0</td>\n",
       "      <td>W</td>\n",
       "      <td>...</td>\n",
       "      <td>65.0</td>\n",
       "      <td>43.0</td>\n",
       "      <td>1001.2</td>\n",
       "      <td>1001.8</td>\n",
       "      <td>NaN</td>\n",
       "      <td>7.0</td>\n",
       "      <td>15.8</td>\n",
       "      <td>19.8</td>\n",
       "      <td>Yes</td>\n",
       "      <td>No</td>\n",
       "    </tr>\n",
       "    <tr>\n",
       "      <th>17</th>\n",
       "      <td>2008-12-18</td>\n",
       "      <td>Albury</td>\n",
       "      <td>13.5</td>\n",
       "      <td>22.9</td>\n",
       "      <td>16.8</td>\n",
       "      <td>NaN</td>\n",
       "      <td>NaN</td>\n",
       "      <td>W</td>\n",
       "      <td>63.0</td>\n",
       "      <td>N</td>\n",
       "      <td>...</td>\n",
       "      <td>80.0</td>\n",
       "      <td>65.0</td>\n",
       "      <td>1005.8</td>\n",
       "      <td>1002.2</td>\n",
       "      <td>8.0</td>\n",
       "      <td>1.0</td>\n",
       "      <td>18.0</td>\n",
       "      <td>21.5</td>\n",
       "      <td>Yes</td>\n",
       "      <td>Yes</td>\n",
       "    </tr>\n",
       "  </tbody>\n",
       "</table>\n",
       "<p>5 rows × 23 columns</p>\n",
       "</div>"
      ],
      "text/plain": [
       "          Date Location  MinTemp  MaxTemp  Rainfall  Evaporation  Sunshine  \\\n",
       "9   2008-12-10   Albury     13.1     30.1       1.4          NaN       NaN   \n",
       "11  2008-12-12   Albury     15.9     21.7       2.2          NaN       NaN   \n",
       "12  2008-12-13   Albury     15.9     18.6      15.6          NaN       NaN   \n",
       "13  2008-12-14   Albury     12.6     21.0       3.6          NaN       NaN   \n",
       "17  2008-12-18   Albury     13.5     22.9      16.8          NaN       NaN   \n",
       "\n",
       "   WindGustDir  WindGustSpeed WindDir9am  ... Humidity9am  Humidity3pm  \\\n",
       "9            W           28.0          S  ...        58.0         27.0   \n",
       "11         NNE           31.0         NE  ...        89.0         91.0   \n",
       "12           W           61.0        NNW  ...        76.0         93.0   \n",
       "13          SW           44.0          W  ...        65.0         43.0   \n",
       "17           W           63.0          N  ...        80.0         65.0   \n",
       "\n",
       "    Pressure9am  Pressure3pm  Cloud9am  Cloud3pm  Temp9am  Temp3pm  RainToday  \\\n",
       "9        1007.0       1005.7       NaN       NaN     20.1     28.2        Yes   \n",
       "11       1010.5       1004.2       8.0       8.0     15.9     17.0        Yes   \n",
       "12        994.3        993.0       8.0       8.0     17.4     15.8        Yes   \n",
       "13       1001.2       1001.8       NaN       7.0     15.8     19.8        Yes   \n",
       "17       1005.8       1002.2       8.0       1.0     18.0     21.5        Yes   \n",
       "\n",
       "    RainTomorrow  \n",
       "9             No  \n",
       "11           Yes  \n",
       "12           Yes  \n",
       "13            No  \n",
       "17           Yes  \n",
       "\n",
       "[5 rows x 23 columns]"
      ]
     },
     "execution_count": 15,
     "metadata": {},
     "output_type": "execute_result"
    }
   ],
   "source": [
    "# Mostramos como quedo la columna\n",
    "temp3lluvia.head()"
   ]
  },
  {
   "cell_type": "code",
   "execution_count": null,
   "metadata": {
    "id": "o9Fd6L7wBGrS"
   },
   "outputs": [],
   "source": [
    "# Guardamos las columnas que usaremos\n",
    "temp3 = temp3lluvia[[\"Temp3pm\",\"RainToday\"]]"
   ]
  },
  {
   "cell_type": "code",
   "execution_count": null,
   "metadata": {
    "id": "lfXtLAo1BGrT",
    "outputId": "f58ec9ca-cec8-4db1-ad73-f825b1fe3ed7"
   },
   "outputs": [
    {
     "data": {
      "text/plain": [
       "(31880, 2)"
      ]
     },
     "execution_count": 17,
     "metadata": {},
     "output_type": "execute_result"
    }
   ],
   "source": [
    "# Con el siguiente codigo podemos ver la cantidad de filas y columnas\n",
    "temp3.shape"
   ]
  },
  {
   "cell_type": "code",
   "execution_count": null,
   "metadata": {
    "id": "W0ghwwZVBGrT"
   },
   "outputs": [],
   "source": [
    "# Importamos la libretia matplotlib perteneciente a python\n",
    "import matplotlib.pyplot as plt\n",
    "import numpy as np"
   ]
  },
  {
   "cell_type": "code",
   "execution_count": null,
   "metadata": {
    "id": "FTozJA-BBGrT",
    "outputId": "40316dd7-02c8-4830-80b3-a4eb79cedb11"
   },
   "outputs": [
    {
     "data": {
      "text/plain": [
       "Text(0.5, 1.0, 'Histograma')"
      ]
     },
     "execution_count": 19,
     "metadata": {},
     "output_type": "execute_result"
    },
    {
     "data": {
      "image/png": "[encoded data removed]",
      "text/plain": [
       "<Figure size 432x288 with 1 Axes>"
      ]
     },
     "metadata": {
      "needs_background": "light"
     },
     "output_type": "display_data"
    }
   ],
   "source": [
    "# Realizamos el histrgrama\n",
    "k = int(np.ceil(1+np.log2(len(temp3))))\n",
    "plt.hist(data[\"Temp3pm\"], bins = k) #bins = [0,30,60,...,200]\n",
    "plt.xlabel(\"Veces que a llueve con cada temperatura\")\n",
    "plt.ylabel(\"Frecuencia\")\n",
    "plt.title(\"Histograma\")"
   ]
  },
  {
   "cell_type": "markdown",
   "metadata": {
    "id": "18xpi5Y8BGrT"
   },
   "source": [
    "#### Respuesta 2\n",
    "###### ¿Cual es la media de temperatura minima en que llueve al siguiente dia?\n",
    "###### La media de temperatura es de 12.7º grados"
   ]
  },
  {
   "cell_type": "markdown",
   "metadata": {
    "id": "fiRcxpd5BGrT"
   },
   "source": [
    "##### ¿Como lo descubrimos?"
   ]
  },
  {
   "cell_type": "code",
   "execution_count": null,
   "metadata": {
    "id": "_o153uHXBGrT"
   },
   "outputs": [],
   "source": [
    "# Agrupamos la columna \"RainTomorrow\"\n",
    "lluvia2d = data.groupby(\"RainTomorrow\")"
   ]
  },
  {
   "cell_type": "code",
   "execution_count": null,
   "metadata": {
    "id": "9aZ0WBKQBGrU"
   },
   "outputs": [],
   "source": [
    "# De la columna agrupada solo mostramos los que tengas la palabra \"Yes\"\n",
    "temp3lluvia = lluvia2d.get_group(\"Yes\")"
   ]
  },
  {
   "cell_type": "code",
   "execution_count": null,
   "metadata": {
    "id": "GGhN5Bq2BGrU"
   },
   "outputs": [],
   "source": [
    "# Guardamos las columnas que usaremos\n",
    "temp3 = temp3lluvia[[\"MinTemp\"]]"
   ]
  },
  {
   "cell_type": "code",
   "execution_count": null,
   "metadata": {
    "id": "YPkSvloTBGrU",
    "outputId": "1f5310c3-5696-459b-ebf3-e21328dbd9ed"
   },
   "outputs": [
    {
     "data": {
      "text/plain": [
       "(31877, 1)"
      ]
     },
     "execution_count": 23,
     "metadata": {},
     "output_type": "execute_result"
    }
   ],
   "source": [
    "# Con el siguiente codigo podemos ver la cantidad de filas y columnas\n",
    "temp3.shape"
   ]
  },
  {
   "cell_type": "code",
   "execution_count": null,
   "metadata": {
    "id": "reEfEFdfBGrU",
    "outputId": "db6d1cd8-b3e8-4ed0-dc23-08224cf68512"
   },
   "outputs": [
    {
     "data": {
      "text/plain": [
       "MinTemp    12.7\n",
       "dtype: float64"
      ]
     },
     "execution_count": 24,
     "metadata": {},
     "output_type": "execute_result"
    }
   ],
   "source": [
    "# Sacamos la media con el siguiente codigo\n",
    "temp3[[\"MinTemp\"]].median()"
   ]
  },
  {
   "cell_type": "markdown",
   "metadata": {
    "id": "20kpyWvjBGrU"
   },
   "source": [
    "#### Respuesta 3\n",
    "###### ¿A que velocidad del viento es mas probable que llueva?\n",
    "###### Es mas probable que llueva a 45.9 km/h"
   ]
  },
  {
   "cell_type": "markdown",
   "metadata": {
    "id": "fV5lRD3CBGrU"
   },
   "source": [
    "##### ¿Como lo descubrimos?"
   ]
  },
  {
   "cell_type": "code",
   "execution_count": null,
   "metadata": {
    "id": "vUrqBjAPBGrU"
   },
   "outputs": [],
   "source": [
    "# Agrupamos la columna \"RainTomorrow\"\n",
    "lluvia = data.groupby(\"RainTomorrow\")"
   ]
  },
  {
   "cell_type": "code",
   "execution_count": null,
   "metadata": {
    "id": "1mXMxfZTBGrV"
   },
   "outputs": [],
   "source": [
    "# De la columna agrupada solo mostramos los que tengas la palabra \"Yes\"\n",
    "vel_luvia = lluvia.get_group(\"Yes\")"
   ]
  },
  {
   "cell_type": "code",
   "execution_count": null,
   "metadata": {
    "id": "vYDlcKRqBGrV"
   },
   "outputs": [],
   "source": [
    "# Guardamos las columnas que usaremos\n",
    "vel = vel_luvia[[\"WindGustSpeed\"]]"
   ]
  },
  {
   "cell_type": "code",
   "execution_count": null,
   "metadata": {
    "id": "2hrNMhHXBGrV",
    "outputId": "423c5345-e5c9-4f80-8ef4-330bf9efc325"
   },
   "outputs": [
    {
     "data": {
      "text/plain": [
       "(31877, 1)"
      ]
     },
     "execution_count": 28,
     "metadata": {},
     "output_type": "execute_result"
    }
   ],
   "source": [
    "# Con el siguiente codigo podemos ver la cantidad de filas y columnas\n",
    "vel.shape"
   ]
  },
  {
   "cell_type": "code",
   "execution_count": null,
   "metadata": {
    "id": "WXEpXj3pBGrV",
    "outputId": "10d6ed0b-4be2-43cc-f4da-027ad2c1b687"
   },
   "outputs": [
    {
     "data": {
      "text/plain": [
       "WindGustSpeed    45.946764\n",
       "dtype: float64"
      ]
     },
     "execution_count": 29,
     "metadata": {},
     "output_type": "execute_result"
    }
   ],
   "source": [
    "# Sacamos la media con el siguiente codigo\n",
    "vel[[\"WindGustSpeed\"]].mean()"
   ]
  },
  {
   "cell_type": "markdown",
   "metadata": {
    "id": "LCpVMBEvBGrV"
   },
   "source": [
    "#### Respuesta 4\n",
    "###### ¿La presion atmosferica afecta para la lluvia?\n",
    "######"
   ]
  },
  {
   "cell_type": "markdown",
   "metadata": {
    "id": "ENXuAQWxBGrW"
   },
   "source": [
    "##### ¿Como lo descubrimos?"
   ]
  },
  {
   "cell_type": "markdown",
   "metadata": {
    "id": "gidcKtRkBGrW"
   },
   "source": [
    "#### Respuesta 5\n",
    "###### ¿En que porcentaje minimo de humedad es mas probable que llueva en la mañana?\n",
    "###### El porcentaje minimo de humedad con el que puede llegar a llover es con el 1%"
   ]
  },
  {
   "cell_type": "markdown",
   "metadata": {
    "id": "1WDJga89BGrW"
   },
   "source": [
    "##### ¿Como lo descubrimos?"
   ]
  },
  {
   "cell_type": "code",
   "execution_count": null,
   "metadata": {
    "id": "7py78dm5BGrW"
   },
   "outputs": [],
   "source": [
    "# Agrupamos la columna \"RainToday\"\n",
    "lluvia = data.groupby(\"RainToday\")"
   ]
  },
  {
   "cell_type": "code",
   "execution_count": null,
   "metadata": {
    "id": "56gnx6oVBGrW"
   },
   "outputs": [],
   "source": [
    "# De la columna agrupada solo mostramos los que tengas la palabra \"Yes\"\n",
    "hume_luvia = lluvia.get_group(\"Yes\")"
   ]
  },
  {
   "cell_type": "code",
   "execution_count": null,
   "metadata": {
    "id": "OFj6K819BGrW"
   },
   "outputs": [],
   "source": [
    "# Guardamos las columnas que usaremos\n",
    "hum = hume_luvia[[\"Humidity9am\"]]"
   ]
  },
  {
   "cell_type": "code",
   "execution_count": null,
   "metadata": {
    "id": "sVZx1UGRBGrW",
    "outputId": "902e8204-9c4e-416c-aff3-ec39e093dbe6"
   },
   "outputs": [
    {
     "data": {
      "text/plain": [
       "(31880, 1)"
      ]
     },
     "execution_count": 33,
     "metadata": {},
     "output_type": "execute_result"
    }
   ],
   "source": [
    "# Con el siguiente codigo podemos ver la cantidad de filas y columnas\n",
    "hum.shape"
   ]
  },
  {
   "cell_type": "code",
   "execution_count": null,
   "metadata": {
    "id": "1DPTgzhuBGrX",
    "outputId": "6194b7c6-1f94-4871-995f-47d0f05325de"
   },
   "outputs": [
    {
     "data": {
      "text/plain": [
       "Humidity9am    1.0\n",
       "dtype: float64"
      ]
     },
     "execution_count": 34,
     "metadata": {},
     "output_type": "execute_result"
    }
   ],
   "source": [
    "# Sacamos la media con el siguiente codigo\n",
    "hum[[\"Humidity9am\"]].min()"
   ]
  },
  {
   "cell_type": "markdown",
   "metadata": {
    "id": "xKOd_N9XBGrX"
   },
   "source": [
    "#### CRISP-DM3 Limpieza de datos"
   ]
  },
  {
   "cell_type": "code",
   "execution_count": null,
   "metadata": {
    "id": "wE1drY50BGrX"
   },
   "outputs": [],
   "source": [
    "# Aqui importamos libreria pandas\n",
    "import pandas as pd"
   ]
  },
  {
   "cell_type": "code",
   "execution_count": null,
   "metadata": {
    "id": "Ztoy3A-GBGrX"
   },
   "outputs": [],
   "source": [
    "# En estas linea de codigo buscamos el archivo .csv y lo guardamos en una ruta completa\n",
    "fullpath = \"../datasets/AUS/weatherAUS.csv\""
   ]
  },
  {
   "cell_type": "code",
   "execution_count": null,
   "metadata": {
    "id": "S9J9e7T4BGrX"
   },
   "outputs": [],
   "source": [
    "# Leemos el archivo con pandas y lo guardamos en la variable \"data\"\n",
    "data = pd.read_csv(fullpath)"
   ]
  },
  {
   "cell_type": "code",
   "execution_count": null,
   "metadata": {
    "id": "3wAUeSrmBGrX",
    "outputId": "5a19175c-fe53-49ae-ad69-823e4e47f94a"
   },
   "outputs": [
    {
     "data": {
      "text/plain": [
       "array(['Date', 'Location', 'MinTemp', 'MaxTemp', 'Rainfall',\n",
       "       'Evaporation', 'Sunshine', 'WindGustDir', 'WindGustSpeed',\n",
       "       'WindDir9am', 'WindDir3pm', 'WindSpeed9am', 'WindSpeed3pm',\n",
       "       'Humidity9am', 'Humidity3pm', 'Pressure9am', 'Pressure3pm',\n",
       "       'Cloud9am', 'Cloud3pm', 'Temp9am', 'Temp3pm', 'RainToday',\n",
       "       'RainTomorrow'], dtype=object)"
      ]
     },
     "execution_count": 38,
     "metadata": {},
     "output_type": "execute_result"
    }
   ],
   "source": [
    "# Revisamos las columnas que tenemos\n",
    "data.columns.values"
   ]
  },
  {
   "cell_type": "code",
   "execution_count": null,
   "metadata": {
    "id": "3c_SGdDqBGrY"
   },
   "outputs": [],
   "source": [
    "# Creamos una nueva variable y le metemos los datos en caso de que cometamos un error volvemos atras\n",
    "datanonull = data"
   ]
  },
  {
   "cell_type": "code",
   "execution_count": null,
   "metadata": {
    "id": "GZNEfI7DBGrY"
   },
   "outputs": [],
   "source": [
    "# ELiminamos las columnas que no usaremos\n",
    "del(datanonull['Date'])\n",
    "del(datanonull['Location'])\n",
    "del(datanonull['Evaporation'])\n",
    "del(datanonull['Sunshine'])\n",
    "del(datanonull['WindGustDir'])\n",
    "del(datanonull['WindDir9am'])\n",
    "del(datanonull['WindDir3pm'])\n",
    "del(datanonull['Cloud9am'])\n",
    "del(datanonull['Cloud3pm'])\n",
    "del(datanonull['RainTomorrow'])"
   ]
  },
  {
   "cell_type": "code",
   "execution_count": null,
   "metadata": {
    "id": "t-qfZiNyBGrY",
    "outputId": "1a8cb16e-ea3e-42f8-9335-bd9671c3980b"
   },
   "outputs": [
    {
     "data": {
      "text/plain": [
       "(145460, 13)"
      ]
     },
     "execution_count": 41,
     "metadata": {},
     "output_type": "execute_result"
    }
   ],
   "source": [
    "# Revisamos la cantidad que nos quedo\n",
    "datanonull.shape"
   ]
  },
  {
   "cell_type": "code",
   "execution_count": null,
   "metadata": {
    "id": "xFdLqdCLBGrY",
    "outputId": "1550578c-4e83-4355-f780-af1ebd56d5a3"
   },
   "outputs": [
    {
     "data": {
      "text/plain": [
       "array(['MinTemp', 'MaxTemp', 'Rainfall', 'WindGustSpeed', 'WindSpeed9am',\n",
       "       'WindSpeed3pm', 'Humidity9am', 'Humidity3pm', 'Pressure9am',\n",
       "       'Pressure3pm', 'Temp9am', 'Temp3pm', 'RainToday'], dtype=object)"
      ]
     },
     "execution_count": 160,
     "metadata": {},
     "output_type": "execute_result"
    }
   ],
   "source": [
    "# Revisamos las columnas que tenemos\n",
    "datanonull.columns.values"
   ]
  },
  {
   "cell_type": "code",
   "execution_count": null,
   "metadata": {
    "id": "Qk3kqCTVBGrY",
    "outputId": "18c39a56-7938-4002-e81a-1806b0ce618d"
   },
   "outputs": [
    {
     "data": {
      "text/plain": [
       "1485"
      ]
     },
     "execution_count": 161,
     "metadata": {},
     "output_type": "execute_result"
    }
   ],
   "source": [
    "# Revisamos la cantidad de nulos en la columna\n",
    "pd.isnull(datanonull[\"MinTemp\"]).values.ravel().sum()"
   ]
  },
  {
   "cell_type": "code",
   "execution_count": null,
   "metadata": {
    "id": "Fdf2uSssBGrY",
    "outputId": "ae7fa618-2c20-45c1-d0ed-a41f53c3496a"
   },
   "outputs": [
    {
     "data": {
      "text/plain": [
       "1261"
      ]
     },
     "execution_count": 162,
     "metadata": {},
     "output_type": "execute_result"
    }
   ],
   "source": [
    "# Revisamos la cantidad de nulos en la columna\n",
    "pd.isnull(datanonull[\"MaxTemp\"]).values.ravel().sum()"
   ]
  },
  {
   "cell_type": "code",
   "execution_count": null,
   "metadata": {
    "id": "K49AccEdBGrZ",
    "outputId": "78eade66-34d2-4ca5-8ac7-d3de6834032a"
   },
   "outputs": [
    {
     "data": {
      "text/plain": [
       "3261"
      ]
     },
     "execution_count": 163,
     "metadata": {},
     "output_type": "execute_result"
    }
   ],
   "source": [
    "# Revisamos la cantidad de nulos en la columna\n",
    "pd.isnull(datanonull[\"Rainfall\"]).values.ravel().sum()"
   ]
  },
  {
   "cell_type": "code",
   "execution_count": null,
   "metadata": {
    "id": "3_hdyv8sBGrZ",
    "outputId": "f0971efe-5b79-4124-b497-54b78156a766"
   },
   "outputs": [
    {
     "data": {
      "text/plain": [
       "10263"
      ]
     },
     "execution_count": 164,
     "metadata": {},
     "output_type": "execute_result"
    }
   ],
   "source": [
    "# Revisamos la cantidad de nulos en la columna\n",
    "pd.isnull(datanonull[\"WindGustSpeed\"]).values.ravel().sum()"
   ]
  },
  {
   "cell_type": "code",
   "execution_count": null,
   "metadata": {
    "id": "MnG7yIOzBGrZ",
    "outputId": "e9033671-94c5-4ffa-a842-66e129bcb922"
   },
   "outputs": [
    {
     "data": {
      "text/plain": [
       "1767"
      ]
     },
     "execution_count": 165,
     "metadata": {},
     "output_type": "execute_result"
    }
   ],
   "source": [
    "# Revisamos la cantidad de nulos en la columna\n",
    "pd.isnull(datanonull[\"WindSpeed9am\"]).values.ravel().sum()"
   ]
  },
  {
   "cell_type": "code",
   "execution_count": null,
   "metadata": {
    "id": "xHHbTO1cBGrZ",
    "outputId": "2f9f1cbc-a288-4c20-d5bb-f469a19f2f7f"
   },
   "outputs": [
    {
     "data": {
      "text/plain": [
       "3062"
      ]
     },
     "execution_count": 166,
     "metadata": {},
     "output_type": "execute_result"
    }
   ],
   "source": [
    "# Revisamos la cantidad de nulos en la columna\n",
    "pd.isnull(datanonull[\"WindSpeed3pm\"]).values.ravel().sum()"
   ]
  },
  {
   "cell_type": "code",
   "execution_count": null,
   "metadata": {
    "id": "xWt7thswBGrZ",
    "outputId": "7d56898b-192f-48d8-b83b-2c67686951d8"
   },
   "outputs": [
    {
     "data": {
      "text/plain": [
       "2654"
      ]
     },
     "execution_count": 167,
     "metadata": {},
     "output_type": "execute_result"
    }
   ],
   "source": [
    "# Revisamos la cantidad de nulos en la columna\n",
    "pd.isnull(datanonull[\"Humidity9am\"]).values.ravel().sum()"
   ]
  },
  {
   "cell_type": "code",
   "execution_count": null,
   "metadata": {
    "id": "zxeUbjj2BGrZ",
    "outputId": "fb2e1fe5-c624-4827-b0d8-abe2e6dbf761"
   },
   "outputs": [
    {
     "data": {
      "text/plain": [
       "4507"
      ]
     },
     "execution_count": 168,
     "metadata": {},
     "output_type": "execute_result"
    }
   ],
   "source": [
    "# Revisamos la cantidad de nulos en la columna\n",
    "pd.isnull(datanonull[\"Humidity3pm\"]).values.ravel().sum()"
   ]
  },
  {
   "cell_type": "code",
   "execution_count": null,
   "metadata": {
    "id": "K1J44Oj8BGrZ",
    "outputId": "e7bf8073-71a3-4aae-e7c8-287a78088e2e"
   },
   "outputs": [
    {
     "data": {
      "text/plain": [
       "15065"
      ]
     },
     "execution_count": 169,
     "metadata": {},
     "output_type": "execute_result"
    }
   ],
   "source": [
    "# Revisamos la cantidad de nulos en la columna\n",
    "pd.isnull(datanonull[\"Pressure9am\"]).values.ravel().sum()"
   ]
  },
  {
   "cell_type": "code",
   "execution_count": null,
   "metadata": {
    "id": "jFQdHHLCBGra",
    "outputId": "02135867-0953-4d7c-e4dd-41ac01cd728f"
   },
   "outputs": [
    {
     "data": {
      "text/plain": [
       "15028"
      ]
     },
     "execution_count": 170,
     "metadata": {},
     "output_type": "execute_result"
    }
   ],
   "source": [
    "# Revisamos la cantidad de nulos en la columna\n",
    "pd.isnull(datanonull[\"Pressure3pm\"]).values.ravel().sum()"
   ]
  },
  {
   "cell_type": "code",
   "execution_count": null,
   "metadata": {
    "id": "QwoxQyXlBGra",
    "outputId": "a4a2a754-301f-4298-bf06-885a98553439"
   },
   "outputs": [
    {
     "data": {
      "text/plain": [
       "1767"
      ]
     },
     "execution_count": 171,
     "metadata": {},
     "output_type": "execute_result"
    }
   ],
   "source": [
    "# Revisamos la cantidad de nulos en la columna\n",
    "pd.isnull(datanonull[\"Temp9am\"]).values.ravel().sum()"
   ]
  },
  {
   "cell_type": "code",
   "execution_count": null,
   "metadata": {
    "id": "7LeOQSyFBGra",
    "outputId": "5d2e54e8-22a1-4f19-d5ba-8ca0bdfe37e1"
   },
   "outputs": [
    {
     "data": {
      "text/plain": [
       "3609"
      ]
     },
     "execution_count": 172,
     "metadata": {},
     "output_type": "execute_result"
    }
   ],
   "source": [
    "# Revisamos la cantidad de nulos en la columna\n",
    "pd.isnull(datanonull[\"Temp3pm\"]).values.ravel().sum()"
   ]
  },
  {
   "cell_type": "code",
   "execution_count": null,
   "metadata": {
    "id": "EK2l9-RgBGra",
    "outputId": "94165b7c-7c75-45ef-9c00-96fbeb7d7466"
   },
   "outputs": [
    {
     "data": {
      "text/plain": [
       "3261"
      ]
     },
     "execution_count": 173,
     "metadata": {},
     "output_type": "execute_result"
    }
   ],
   "source": [
    "# Revisamos la cantidad de nulos en la columna\n",
    "pd.isnull(datanonull[\"RainToday\"]).values.ravel().sum()"
   ]
  },
  {
   "cell_type": "code",
   "execution_count": null,
   "metadata": {
    "id": "jVBUm6dvBGra",
    "outputId": "8459798f-a940-4865-a396-8c931551cd25"
   },
   "outputs": [
    {
     "data": {
      "text/plain": [
       "66990"
      ]
     },
     "execution_count": 174,
     "metadata": {},
     "output_type": "execute_result"
    }
   ],
   "source": [
    "# Revisamos la cantidad de nulos en la columna\n",
    "pd.isnull(datanonull).values.ravel().sum()"
   ]
  },
  {
   "cell_type": "code",
   "execution_count": null,
   "metadata": {
    "id": "VqYQWNllBGra"
   },
   "outputs": [],
   "source": [
    "# Reemplazamos los nulos por la media\n",
    "datanonull[\"MinTemp\"]=datanonull[\"MinTemp\"].fillna(datanonull[\"MinTemp\"].mean())\n",
    "datanonull[\"MaxTemp\"]=datanonull[\"MaxTemp\"].fillna(datanonull[\"MaxTemp\"].mean())\n",
    "datanonull[\"Temp9am\"]=datanonull[\"Temp9am\"].fillna(datanonull[\"Temp9am\"].mean())\n",
    "datanonull[\"Temp3pm\"]=datanonull[\"Temp3pm\"].fillna(datanonull[\"Temp3pm\"].mean())\n",
    "\n",
    "# Reemplazamos los nulos por el minimo\n",
    "datanonull[\"Rainfall\"]=datanonull[\"Rainfall\"].fillna(datanonull[\"Rainfall\"].min())\n",
    "datanonull[\"WindGustSpeed\"]=datanonull[\"WindGustSpeed\"].fillna(datanonull[\"WindGustSpeed\"].min())\n",
    "datanonull[\"WindSpeed9am\"]=datanonull[\"WindSpeed9am\"].fillna(datanonull[\"WindSpeed9am\"].min())\n",
    "datanonull[\"WindSpeed3pm\"]=datanonull[\"WindSpeed3pm\"].fillna(datanonull[\"WindSpeed3pm\"].min())\n",
    "\n",
    "# Reemplazamos los nulos por la mediana\n",
    "datanonull[\"Humidity9am\"]=datanonull[\"Humidity9am\"].fillna(datanonull[\"Humidity9am\"].median())\n",
    "datanonull[\"Humidity3pm\"]=datanonull[\"Humidity3pm\"].fillna(datanonull[\"Humidity3pm\"].median())\n",
    "\n",
    "# Reemplazamos los nulos por la maxima\n",
    "datanonull[\"Pressure9am\"]=datanonull[\"Pressure9am\"].fillna(datanonull[\"Pressure9am\"].max())\n",
    "datanonull[\"Pressure3pm\"]=datanonull[\"Pressure3pm\"].fillna(datanonull[\"Pressure3pm\"].max())"
   ]
  },
  {
   "cell_type": "code",
   "execution_count": null,
   "metadata": {
    "id": "JA6qvkZZBGrb"
   },
   "outputs": [],
   "source": [
    "# Reemplazamos los resultados de palabras a numeros\n",
    "datanonull[\"RainToday\"]=datanonull[\"RainToday\"].replace({'No','Yes'},(1,2))"
   ]
  },
  {
   "cell_type": "code",
   "execution_count": null,
   "metadata": {
    "id": "THSfWInUBGrb"
   },
   "outputs": [],
   "source": [
    "# Reemplazamos los nulos por \"Desconocidos\"\n",
    "datanonull[\"RainToday\"]=datanonull[\"RainToday\"].fillna(\"Desconocido\")"
   ]
  },
  {
   "cell_type": "code",
   "execution_count": null,
   "metadata": {
    "id": "s6R_B0SyBGrb",
    "outputId": "ae6e7612-00b3-4164-f33a-6561132b4592"
   },
   "outputs": [
    {
     "data": {
      "text/plain": [
       "0"
      ]
     },
     "execution_count": 178,
     "metadata": {},
     "output_type": "execute_result"
    }
   ],
   "source": [
    "# Revisamos la cantidad de nulos total\n",
    "pd.isnull(datanonull).values.ravel().sum()"
   ]
  },
  {
   "cell_type": "code",
   "execution_count": null,
   "metadata": {
    "id": "8O0WI7_lBGrb",
    "outputId": "1f027854-5f87-439c-d808-17478c533679"
   },
   "outputs": [
    {
     "data": {
      "text/plain": [
       "array([1.0, 2.0, 'Desconocido'], dtype=object)"
      ]
     },
     "execution_count": 179,
     "metadata": {},
     "output_type": "execute_result"
    }
   ],
   "source": [
    "# Revisamos los datos que tiene la columna \"RainToday\"\n",
    "datanonull[\"RainToday\"].unique()"
   ]
  },
  {
   "cell_type": "code",
   "execution_count": null,
   "metadata": {
    "id": "XfT8TFVpBGrb",
    "outputId": "5bb2d96b-f2cb-4ad8-efd7-f91765efdfe7"
   },
   "outputs": [
    {
     "data": {
      "text/plain": [
       "(145460, 13)"
      ]
     },
     "execution_count": 180,
     "metadata": {},
     "output_type": "execute_result"
    }
   ],
   "source": [
    "# Revisamos las filas y columnas que nos quedaron\n",
    "datanonull.shape"
   ]
  },
  {
   "cell_type": "code",
   "execution_count": null,
   "metadata": {
    "id": "XFVqQcuZBGrb"
   },
   "outputs": [],
   "source": [
    "# Eliminamos las filas que tengan \"Desconocidos\"\n",
    "datanonull = datanonull.drop(datanonull[datanonull[\"RainToday\"]==\"Desconocido\"].index)"
   ]
  },
  {
   "cell_type": "code",
   "execution_count": null,
   "metadata": {
    "id": "fR7VbKr0BGrc",
    "outputId": "f4794605-a90a-43f9-e54e-f8c879850280"
   },
   "outputs": [
    {
     "data": {
      "text/plain": [
       "array([1.0, 2.0], dtype=object)"
      ]
     },
     "execution_count": 182,
     "metadata": {},
     "output_type": "execute_result"
    }
   ],
   "source": [
    "# Revisamos los datos que tiene la columna \"RainToday\"\n",
    "datanonull[\"RainToday\"].unique()"
   ]
  },
  {
   "cell_type": "code",
   "execution_count": null,
   "metadata": {
    "id": "ZP9qMYBUBGrc"
   },
   "outputs": [],
   "source": [
    "# Cambiamos el tipo de datos de la columna (de object a int)\n",
    "datanonull[\"RainToday\"]=datanonull[\"RainToday\"].astype(int)"
   ]
  },
  {
   "cell_type": "code",
   "execution_count": null,
   "metadata": {
    "id": "uqLozSDcBGrc",
    "outputId": "be8c5e60-eb3a-4490-8302-71613176c31d"
   },
   "outputs": [
    {
     "data": {
      "text/plain": [
       "(142199, 13)"
      ]
     },
     "execution_count": 184,
     "metadata": {},
     "output_type": "execute_result"
    }
   ],
   "source": [
    "# Revisamos las filas y columnas que nos quedaron\n",
    "datanonull.shape"
   ]
  },
  {
   "cell_type": "code",
   "execution_count": null,
   "metadata": {
    "id": "arJM7UapBGrd",
    "outputId": "d297c2c8-6e4a-4091-aeaf-0614960ed8eb"
   },
   "outputs": [
    {
     "data": {
      "text/plain": [
       "array(['MinTemp', 'MaxTemp', 'Rainfall', 'WindGustSpeed', 'WindSpeed9am',\n",
       "       'WindSpeed3pm', 'Humidity9am', 'Humidity3pm', 'Pressure9am',\n",
       "       'Pressure3pm', 'Temp9am', 'Temp3pm', 'RainToday'], dtype=object)"
      ]
     },
     "execution_count": 58,
     "metadata": {},
     "output_type": "execute_result"
    }
   ],
   "source": [
    "# Revisamos las columnas que tenemos\n",
    "datanonull.columns.values"
   ]
  },
  {
   "cell_type": "code",
   "execution_count": null,
   "metadata": {
    "id": "2vgqf3nGBGrd"
   },
   "outputs": [],
   "source": [
    "# Creamos una nueva variable y le metemos los datos en caso de que cometamos un error volvemos atras\n",
    "dataC = datanonull"
   ]
  },
  {
   "cell_type": "markdown",
   "metadata": {
    "id": "5-j5QbzRBGre"
   },
   "source": [
    "#### CRISP-DM4 Modelo"
   ]
  },
  {
   "cell_type": "code",
   "execution_count": null,
   "metadata": {
    "id": "eBSzagKvBGre"
   },
   "outputs": [],
   "source": [
    "# Separamos las columnas en predictores y target\n",
    "nom_colum = dataC.columns.values\n",
    "predictores = nom_colum[0:12]\n",
    "target = nom_colum[12]"
   ]
  },
  {
   "cell_type": "code",
   "execution_count": null,
   "metadata": {
    "id": "xRjmndt4BGre",
    "outputId": "b9a53a9e-e6b4-4814-e7ac-b872f76b54ad"
   },
   "outputs": [
    {
     "data": {
      "text/plain": [
       "array(['MinTemp', 'MaxTemp', 'Rainfall', 'WindGustSpeed', 'WindSpeed9am',\n",
       "       'WindSpeed3pm', 'Humidity9am', 'Humidity3pm', 'Pressure9am',\n",
       "       'Pressure3pm', 'Temp9am', 'Temp3pm'], dtype=object)"
      ]
     },
     "execution_count": 61,
     "metadata": {},
     "output_type": "execute_result"
    }
   ],
   "source": [
    "# Revisamos las columnas que quedaron en predictores\n",
    "predictores"
   ]
  },
  {
   "cell_type": "code",
   "execution_count": null,
   "metadata": {
    "id": "Ec_gqp_lBGre",
    "outputId": "d7178c43-31d8-421a-b1b5-13a44628e77d"
   },
   "outputs": [
    {
     "data": {
      "text/plain": [
       "'RainToday'"
      ]
     },
     "execution_count": 62,
     "metadata": {},
     "output_type": "execute_result"
    }
   ],
   "source": [
    "# Revisamos las columnas que quedaron en target\n",
    "target"
   ]
  },
  {
   "cell_type": "code",
   "execution_count": null,
   "metadata": {
    "id": "0ptuesl7BGre"
   },
   "outputs": [],
   "source": [
    "# Importamos las librerias necesarias\n",
    "import numpy as np\n",
    "from sklearn.model_selection import train_test_split"
   ]
  },
  {
   "cell_type": "code",
   "execution_count": null,
   "metadata": {
    "id": "LoEZsJgaBGre"
   },
   "outputs": [],
   "source": [
    "# Separamos los datos en train(80%) y test(20%)\n",
    "train, test = train_test_split(dataC, test_size=0.20)"
   ]
  },
  {
   "cell_type": "markdown",
   "metadata": {
    "id": "51DpwTKDBGre"
   },
   "source": [
    "##### Modelo 1-Naive Bayes"
   ]
  },
  {
   "cell_type": "code",
   "execution_count": null,
   "metadata": {
    "id": "DnwVB72vBGre"
   },
   "outputs": [],
   "source": [
    "# Importamo la libreria necesaria\n",
    "from sklearn.naive_bayes import GaussianNB"
   ]
  },
  {
   "cell_type": "code",
   "execution_count": null,
   "metadata": {
    "id": "_4CH0zW5BGrf"
   },
   "outputs": [],
   "source": [
    "# Creamos una variable\n",
    "naive = GaussianNB()"
   ]
  },
  {
   "cell_type": "code",
   "execution_count": null,
   "metadata": {
    "id": "G9j5-RWEBGrf",
    "outputId": "fd56bd87-5f74-45eb-88ec-8e45c3fafb50"
   },
   "outputs": [
    {
     "data": {
      "text/plain": [
       "GaussianNB()"
      ]
     },
     "execution_count": 67,
     "metadata": {},
     "output_type": "execute_result"
    }
   ],
   "source": [
    "# Entrenamos el algoritmo\n",
    "naive.fit(train[predictores], train[target])"
   ]
  },
  {
   "cell_type": "markdown",
   "metadata": {
    "id": "Mhv0gRD-BGrf",
    "tags": []
   },
   "source": [
    "##### Modelo 2-Decision Tree"
   ]
  },
  {
   "cell_type": "code",
   "execution_count": null,
   "metadata": {
    "id": "xK3gmCvCBGrf"
   },
   "outputs": [],
   "source": [
    "# Importamo la libreria necesaria\n",
    "from sklearn.tree import DecisionTreeClassifier"
   ]
  },
  {
   "cell_type": "code",
   "execution_count": null,
   "metadata": {
    "id": "6q9mzteTBGrf"
   },
   "outputs": [],
   "source": [
    "# Creamos una variable\n",
    "tree = DecisionTreeClassifier()"
   ]
  },
  {
   "cell_type": "code",
   "execution_count": null,
   "metadata": {
    "id": "nFwZ-y-LBGrf",
    "outputId": "d3447fb3-0546-4281-8f4a-2ab7e3d4654d"
   },
   "outputs": [
    {
     "data": {
      "text/plain": [
       "DecisionTreeClassifier()"
      ]
     },
     "execution_count": 70,
     "metadata": {},
     "output_type": "execute_result"
    }
   ],
   "source": [
    "# Entrenamos el algoritmo\n",
    "tree.fit(train[predictores], train[target])"
   ]
  },
  {
   "cell_type": "markdown",
   "metadata": {
    "id": "VAO0_RtBBGrf"
   },
   "source": [
    "##### Modelo 3-KNeighbors"
   ]
  },
  {
   "cell_type": "code",
   "execution_count": null,
   "metadata": {
    "id": "PzVIH2lZBGrf"
   },
   "outputs": [],
   "source": [
    "# Importamo la libreria necesaria\n",
    "from sklearn.neighbors import KNeighborsClassifier"
   ]
  },
  {
   "cell_type": "code",
   "execution_count": null,
   "metadata": {
    "id": "y9PSgfH5BGrg"
   },
   "outputs": [],
   "source": [
    "# Creamos una variable\n",
    "KN = KNeighborsClassifier(n_neighbors=1)"
   ]
  },
  {
   "cell_type": "code",
   "execution_count": null,
   "metadata": {
    "id": "r_5mx1m1BGrg",
    "outputId": "8d5b406e-3810-41c8-cfe0-f983fc78f5e7"
   },
   "outputs": [
    {
     "data": {
      "text/plain": [
       "KNeighborsClassifier(n_neighbors=1)"
      ]
     },
     "execution_count": 73,
     "metadata": {},
     "output_type": "execute_result"
    }
   ],
   "source": [
    "# Entrenamos el algoritmo\n",
    "KN.fit(train[predictores], train[target])"
   ]
  },
  {
   "cell_type": "markdown",
   "metadata": {
    "id": "WDFUs4b8BGrg"
   },
   "source": [
    "##### Visualizacion del Decision Tree"
   ]
  },
  {
   "cell_type": "code",
   "execution_count": null,
   "metadata": {
    "id": "YAdEy-agBGrg",
    "outputId": "2b3750dd-f93d-4841-86ff-7e18dc157687"
   },
   "outputs": [
    {
     "data": {
      "image/png": "[encoded data removed]",
      "text/plain": [
       "<IPython.core.display.Image object>"
      ]
     },
     "execution_count": 74,
     "metadata": {},
     "output_type": "execute_result"
    }
   ],
   "source": [
    "# Realizamos el mapa del funcinamiento del arbol de deciciones\n",
    "from six import StringIO\n",
    "from IPython.display import Image\n",
    "from sklearn.tree import export_graphviz\n",
    "import pydotplus\n",
    "\n",
    "dot_data = StringIO()\n",
    "\n",
    "export_graphviz(tree, out_file=dot_data,\n",
    "                filled=True, rounded=True,\n",
    "                special_characters=True)\n",
    "\n",
    "graph = pydotplus.graph_from_dot_data(dot_data.getvalue())\n",
    "Image(graph.create_png())"
   ]
  },
  {
   "cell_type": "markdown",
   "metadata": {
    "id": "iWVl8TWmBGrg"
   },
   "source": [
    "#### CRISP-DM5 Validar"
   ]
  },
  {
   "cell_type": "code",
   "execution_count": null,
   "metadata": {
    "id": "J3HovxNJBGrg"
   },
   "outputs": [],
   "source": [
    "# Importamos las librerias necesarias\n",
    "from sklearn import metrics\n",
    "from sklearn.metrics import accuracy_score, make_scorer"
   ]
  },
  {
   "cell_type": "markdown",
   "metadata": {
    "id": "ozAWGz_tBGrg",
    "tags": []
   },
   "source": [
    "##### Validacion de modelo 1-Naive Bayes"
   ]
  },
  {
   "cell_type": "code",
   "execution_count": null,
   "metadata": {
    "id": "x2R65dClBGrg"
   },
   "outputs": [],
   "source": [
    "# Guardamos los resultados entregados por el algoritmo\n",
    "resultado = naive.predict(test[predictores])"
   ]
  },
  {
   "cell_type": "code",
   "execution_count": null,
   "metadata": {
    "id": "pS_qoZPABGrg",
    "outputId": "a8c8169f-a2fe-4adc-a213-67f329469bb4"
   },
   "outputs": [
    {
     "name": "stdout",
     "output_type": "stream",
     "text": [
      "0.969268635724332\n"
     ]
    }
   ],
   "source": [
    "# Imprimimos el accuracy\n",
    "print(metrics.accuracy_score(test[target], resultado))"
   ]
  },
  {
   "cell_type": "code",
   "execution_count": null,
   "metadata": {
    "id": "xgUtD8zYBGrh",
    "outputId": "7c8723bf-b9fd-4d3f-db30-9d7c1e6f9d73"
   },
   "outputs": [
    {
     "name": "stdout",
     "output_type": "stream",
     "text": [
      "[[21179   872]\n",
      " [    2  6387]]\n"
     ]
    }
   ],
   "source": [
    "# Comparamos los resultados entregados por el algoritmo con los datos que dejamos para test\n",
    "print(metrics.confusion_matrix(test[target], resultado))"
   ]
  },
  {
   "cell_type": "markdown",
   "metadata": {
    "id": "oB1j6D86BGrh"
   },
   "source": [
    "##### Validacion de modelo 2-Decision Tree"
   ]
  },
  {
   "cell_type": "code",
   "execution_count": null,
   "metadata": {
    "id": "GJJSI-eyBGrh"
   },
   "outputs": [],
   "source": [
    "# Guardamos los resultados entregados por el algoritmo\n",
    "resultado = tree.predict(test[predictores])"
   ]
  },
  {
   "cell_type": "code",
   "execution_count": null,
   "metadata": {
    "id": "uwrY7pdCBGrh",
    "outputId": "5e550e6b-2a66-47e3-dc62-01e219679957"
   },
   "outputs": [
    {
     "name": "stdout",
     "output_type": "stream",
     "text": [
      "1.0\n"
     ]
    }
   ],
   "source": [
    "# Imprimimos el accuracy\n",
    "print(metrics.accuracy_score(test[target], resultado))"
   ]
  },
  {
   "cell_type": "code",
   "execution_count": null,
   "metadata": {
    "id": "Abqjw8FoBGrh",
    "outputId": "36f331cd-6a94-4116-982c-536bf26b8492"
   },
   "outputs": [
    {
     "name": "stdout",
     "output_type": "stream",
     "text": [
      "[[22051     0]\n",
      " [    0  6389]]\n"
     ]
    }
   ],
   "source": [
    "# Comparamos los resultados entregados por el algoritmo con los datos que dejamos para test\n",
    "print(metrics.confusion_matrix(test[target], resultado))"
   ]
  },
  {
   "cell_type": "markdown",
   "metadata": {
    "id": "s-v5r8joBGrh"
   },
   "source": [
    "##### Validacion de modelo 3-KNeighbors"
   ]
  },
  {
   "cell_type": "code",
   "execution_count": null,
   "metadata": {
    "id": "3HYm8L8bBGrh"
   },
   "outputs": [],
   "source": [
    "# Guardamos los resultados entregados por el algoritmo\n",
    "resultado = KN.predict(test[predictores])"
   ]
  },
  {
   "cell_type": "code",
   "execution_count": null,
   "metadata": {
    "id": "9_KW_I0MBGri",
    "outputId": "0fe2e26b-3637-45f0-ab6c-6354c25992c7"
   },
   "outputs": [
    {
     "name": "stdout",
     "output_type": "stream",
     "text": [
      "0.8720112517580872\n"
     ]
    }
   ],
   "source": [
    "# Imprimimos el accuracy\n",
    "print(metrics.accuracy_score(test[target], resultado))"
   ]
  },
  {
   "cell_type": "code",
   "execution_count": null,
   "metadata": {
    "id": "Xk8FJhw9BGri",
    "outputId": "dd8a98b7-53f6-4d4f-d0f8-997d0f4fa55b"
   },
   "outputs": [
    {
     "name": "stdout",
     "output_type": "stream",
     "text": [
      "[[20541  1510]\n",
      " [ 2130  4259]]\n"
     ]
    }
   ],
   "source": [
    "# Comparamos los resultados entregados por el algoritmo con los datos que dejamos para test\n",
    "print(metrics.confusion_matrix(test[target], resultado))"
   ]
  },
  {
   "cell_type": "code",
   "execution_count": null,
   "metadata": {
    "id": "YHhqntEcBGri"
   },
   "outputs": [],
   "source": [
    "# Buscamos el mejor valor para K\n",
    "k_range = range(1,30)\n",
    "score = []\n",
    "for k in k_range:\n",
    "    KN = KNeighborsClassifier(n_neighbors=k)\n",
    "    KN.fit(train[predictores], train[target])\n",
    "    resultado = KN.predict(test[predictores])\n",
    "    score.append(metrics.accuracy_score(test[target], resultado))"
   ]
  },
  {
   "cell_type": "code",
   "execution_count": null,
   "metadata": {
    "id": "zdRe7XbhBGri",
    "outputId": "842d2cb6-a659-4243-b25e-b41fc7b63a0a"
   },
   "outputs": [
    {
     "data": {
      "text/plain": [
       "Text(0, 0.5, 'Test de Accuracy')"
      ]
     },
     "execution_count": 89,
     "metadata": {},
     "output_type": "execute_result"
    },
    {
     "data": {
      "image/png": "[encoded data removed]",
      "text/plain": [
       "<Figure size 432x288 with 1 Axes>"
      ]
     },
     "metadata": {
      "needs_background": "light"
     },
     "output_type": "display_data"
    }
   ],
   "source": [
    "# Realizamos un diagrama de de los resultados obtenidos para K\n",
    "import matplotlib.pyplot as plt\n",
    "\n",
    "%matplotlib inline\n",
    "\n",
    "plt.plot(k_range, score)\n",
    "plt.title('Evaluacion de mejor valor para K')\n",
    "plt.xlabel('Valor de K en variable KN')\n",
    "plt.ylabel('Test de Accuracy')"
   ]
  },
  {
   "cell_type": "markdown",
   "metadata": {
    "id": "n6Y11mYuBGri"
   },
   "source": [
    "#### CRISP-DM6 Despliegue"
   ]
  },
  {
   "cell_type": "markdown",
   "metadata": {
    "id": "s5snLOz0BGri"
   },
   "source": [
    "Nuestro objetivo era buscar la manera mas optiva de predecedir si llueve o no para nuestro objetivo exploramos los datos y buscamos que cosas nos sirve y que cosas no de las 27 columnas de un inicio ocupamos tan solo 13.\n",
    "De los 3 modelos utilizados (Naive Bayes, Decision Tree, KNeighbors) podemos determinar que al validarlos el mas confiable es el Decision Tree que tiene un accuracy del 1.0 es decir que tuvo un porcentaje de aprobacion del 100% dicho en otras palabras no se equivoco en nada, por esto se recomienda aplicar el modelo Decision Tree por su alta precision con estos datos."
   ]
  }
 ],
 "metadata": {
  "colab": {
   "provenance": []
  },
  "kernelspec": {
   "display_name": "Python 3 (ipykernel)",
   "language": "python",
   "name": "python3"
  },
  "language_info": {
   "codemirror_mode": {
    "name": "ipython",
    "version": 3
   },
   "file_extension": ".py",
   "mimetype": "text/x-python",
   "name": "python",
   "nbconvert_exporter": "python",
   "pygments_lexer": "ipython3",
   "version": "3.9.12"
  }
 },
 "nbformat": 4,
 "nbformat_minor": 0
}
